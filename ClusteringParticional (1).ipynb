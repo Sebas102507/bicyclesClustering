{
  "nbformat": 4,
  "nbformat_minor": 0,
  "metadata": {
    "application/vnd.databricks.v1+notebook": {
      "notebookName": "EjerciciosPracticos_Clustering_2",
      "dashboards": [],
      "notebookMetadata": {
        "pythonIndentUnit": 2
      },
      "language": "python",
      "widgets": {},
      "notebookOrigID": 2459047529660916
    },
    "colab": {
      "provenance": [],
      "collapsed_sections": [],
      "toc_visible": true
    },
    "language_info": {
      "name": "python"
    },
    "kernelspec": {
      "name": "python3",
      "display_name": "Python 3"
    }
  },
  "cells": [
    {
      "cell_type": "markdown",
      "metadata": {
        "application/vnd.databricks.v1+cell": {
          "title": "",
          "showTitle": false,
          "inputWidgets": {},
          "nuid": "d0c4326b-b572-4956-9609-ae0d7ba5113d"
        },
        "id": "U5BBLlSJ2m71"
      },
      "source": [
        "# Clustering usando algoritmos particionales"
      ]
    },
    {
      "cell_type": "markdown",
      "metadata": {
        "application/vnd.databricks.v1+cell": {
          "title": "",
          "showTitle": false,
          "inputWidgets": {},
          "nuid": "dfbbfc79-2ba0-4bda-be7b-efe22a053eb5"
        },
        "id": "1CfwHU3v2m75"
      },
      "source": [
        "<p><strong>Objetivo: </strong> El objetivo de este cuaderno es aplicar el algoritmo de clustering a un conjunto de datos e interpretar los resultados: </p>"
      ]
    },
    {
      "cell_type": "markdown",
      "metadata": {
        "application/vnd.databricks.v1+cell": {
          "title": "",
          "showTitle": false,
          "inputWidgets": {},
          "nuid": "0d51a2f5-50db-42ac-9cf5-f9d2c571033d"
        },
        "id": "YIfZaSmP2m75"
      },
      "source": [
        "<h2>Clustering</h2>"
      ]
    },
    {
      "cell_type": "markdown",
      "metadata": {
        "application/vnd.databricks.v1+cell": {
          "title": "",
          "showTitle": false,
          "inputWidgets": {},
          "nuid": "21b8e38b-7740-4f5f-b75c-a506dd9ca3e2"
        },
        "id": "wCi9jlvk2m76"
      },
      "source": [
        "<h2>Indice</h2>\n",
        "\n",
        "<div class=\"alert alert-block alert-info\" style=\"margin-top: 20px\">\n",
        "<ul>\n",
        "  <li>Cargar los Datos</li>\n",
        "  <li>Preparar los datos</li>\n",
        "  <li>Aplicar el algoritmo</li>\n",
        "  <li>Determinar el valor de K</li>\n",
        "</ul>\n",
        "\n",
        "Tiempo estimado: <strong>30 min</strong>\n",
        "\n",
        "</div>\n",
        "<hr>"
      ]
    },
    {
      "cell_type": "markdown",
      "metadata": {
        "application/vnd.databricks.v1+cell": {
          "title": "",
          "showTitle": false,
          "inputWidgets": {},
          "nuid": "9e48a313-78ba-48b0-92d5-8ddc9ffba437"
        },
        "id": "pYTa-Ufw2m76"
      },
      "source": [
        "##Cargar los datos"
      ]
    },
    {
      "cell_type": "markdown",
      "metadata": {
        "application/vnd.databricks.v1+cell": {
          "title": "",
          "showTitle": false,
          "inputWidgets": {},
          "nuid": "b299b039-16db-4ebe-a69e-6ae32e2ea0b3"
        },
        "id": "-Z1sThIe2m76"
      },
      "source": [
        "Para este ejercicio se estará utilizando el conjunto de datos AdventureWorks. Es un conjunto de datos de clientes, compradores de bicicletas. Se desea conocer más sobre estos clientes para realizar estrategias de mercado:\n",
        "\n",
        "<ul>\n",
        "  <li>descripción de los datos: <a href=\"https://www.dropbox.com/s/3skzjs5uqc8zx9p/DiccAW.docx?dl=1\" target=\"_blank\">https://www.dropbox.com/s/3skzjs5uqc8zx9p/DiccAW.docx?dl=1</a></li>\n",
        "  <li>tipo de datos: csv</li>\n",
        "</ul>"
      ]
    },
    {
      "cell_type": "markdown",
      "metadata": {
        "application/vnd.databricks.v1+cell": {
          "title": "",
          "showTitle": false,
          "inputWidgets": {},
          "nuid": "0b13d0a8-bb6e-466d-a562-10907944b2bd"
        },
        "id": "1c0mBVd82m77"
      },
      "source": [
        "Se va a utilizar la librería Pandas de Python para realizar la lectura de archivos. Este archivo ya viene con cabeceras por lo que no es necesario cargarlas. Se cargan los datos y se muestra el resultado:"
      ]
    },
    {
      "cell_type": "code",
      "metadata": {
        "id": "30GVgXLQVOo1"
      },
      "source": [
        "import matplotlib.pyplot as plt # Para graficar\n",
        "# Importar libreria requerida\n",
        "import pandas as pd"
      ],
      "execution_count": null,
      "outputs": []
    },
    {
      "cell_type": "code",
      "metadata": {
        "application/vnd.databricks.v1+cell": {
          "title": "",
          "showTitle": false,
          "inputWidgets": {},
          "nuid": "642d4948-eeb7-41c2-a566-ed5fa77ee8fb"
        },
        "colab": {
          "base_uri": "https://localhost:8080/",
          "height": 270
        },
        "id": "ncVFyJP_2m78",
        "outputId": "1ed80f9a-4865-44cc-937d-940a02007d43"
      },
      "source": [
        "# Leer datos desde archivo CSV\n",
        "csv_path = \"https://www.dropbox.com/s/rr4rwedaylm9q41/AdventureWorksEng.csv?dl=1\"\n",
        "df = pd.read_csv(csv_path,sep=\",\")\n",
        "\n",
        "df.head()"
      ],
      "execution_count": null,
      "outputs": [
        {
          "output_type": "execute_result",
          "data": {
            "text/plain": [
              "  MaritalStatus Gender  YearlyIncome  TotalChildren  NumberChildrenAtHome  \\\n",
              "0             M      M         90000              2                     0   \n",
              "1             S      M         60000              3                     3   \n",
              "2             M      M         60000              3                     3   \n",
              "3             S      F         70000              0                     0   \n",
              "4             S      F         80000              5                     5   \n",
              "\n",
              "  SpanishEducation SpanishOccupation  HouseOwnerFlag  NumberCarsOwned  \\\n",
              "0     Licenciatura       Profesional               1                0   \n",
              "1     Licenciatura       Profesional               0                1   \n",
              "2     Licenciatura       Profesional               1                1   \n",
              "3     Licenciatura       Profesional               0                1   \n",
              "4     Licenciatura       Profesional               1                4   \n",
              "\n",
              "  CommuteDistance   Region  Age  BikeBuyer  CustomerKey  \n",
              "0       1-2 Miles  Pacific   49          1        11000  \n",
              "1       0-1 Miles  Pacific   49          1        11001  \n",
              "2       2-5 Miles  Pacific   49          1        11002  \n",
              "3      5-10 Miles  Pacific   47          1        11003  \n",
              "4       1-2 Miles  Pacific   46          1        11004  "
            ],
            "text/html": [
              "\n",
              "  <div id=\"df-a414134f-39e3-4ebc-9f6a-ff68d06fc613\">\n",
              "    <div class=\"colab-df-container\">\n",
              "      <div>\n",
              "<style scoped>\n",
              "    .dataframe tbody tr th:only-of-type {\n",
              "        vertical-align: middle;\n",
              "    }\n",
              "\n",
              "    .dataframe tbody tr th {\n",
              "        vertical-align: top;\n",
              "    }\n",
              "\n",
              "    .dataframe thead th {\n",
              "        text-align: right;\n",
              "    }\n",
              "</style>\n",
              "<table border=\"1\" class=\"dataframe\">\n",
              "  <thead>\n",
              "    <tr style=\"text-align: right;\">\n",
              "      <th></th>\n",
              "      <th>MaritalStatus</th>\n",
              "      <th>Gender</th>\n",
              "      <th>YearlyIncome</th>\n",
              "      <th>TotalChildren</th>\n",
              "      <th>NumberChildrenAtHome</th>\n",
              "      <th>SpanishEducation</th>\n",
              "      <th>SpanishOccupation</th>\n",
              "      <th>HouseOwnerFlag</th>\n",
              "      <th>NumberCarsOwned</th>\n",
              "      <th>CommuteDistance</th>\n",
              "      <th>Region</th>\n",
              "      <th>Age</th>\n",
              "      <th>BikeBuyer</th>\n",
              "      <th>CustomerKey</th>\n",
              "    </tr>\n",
              "  </thead>\n",
              "  <tbody>\n",
              "    <tr>\n",
              "      <th>0</th>\n",
              "      <td>M</td>\n",
              "      <td>M</td>\n",
              "      <td>90000</td>\n",
              "      <td>2</td>\n",
              "      <td>0</td>\n",
              "      <td>Licenciatura</td>\n",
              "      <td>Profesional</td>\n",
              "      <td>1</td>\n",
              "      <td>0</td>\n",
              "      <td>1-2 Miles</td>\n",
              "      <td>Pacific</td>\n",
              "      <td>49</td>\n",
              "      <td>1</td>\n",
              "      <td>11000</td>\n",
              "    </tr>\n",
              "    <tr>\n",
              "      <th>1</th>\n",
              "      <td>S</td>\n",
              "      <td>M</td>\n",
              "      <td>60000</td>\n",
              "      <td>3</td>\n",
              "      <td>3</td>\n",
              "      <td>Licenciatura</td>\n",
              "      <td>Profesional</td>\n",
              "      <td>0</td>\n",
              "      <td>1</td>\n",
              "      <td>0-1 Miles</td>\n",
              "      <td>Pacific</td>\n",
              "      <td>49</td>\n",
              "      <td>1</td>\n",
              "      <td>11001</td>\n",
              "    </tr>\n",
              "    <tr>\n",
              "      <th>2</th>\n",
              "      <td>M</td>\n",
              "      <td>M</td>\n",
              "      <td>60000</td>\n",
              "      <td>3</td>\n",
              "      <td>3</td>\n",
              "      <td>Licenciatura</td>\n",
              "      <td>Profesional</td>\n",
              "      <td>1</td>\n",
              "      <td>1</td>\n",
              "      <td>2-5 Miles</td>\n",
              "      <td>Pacific</td>\n",
              "      <td>49</td>\n",
              "      <td>1</td>\n",
              "      <td>11002</td>\n",
              "    </tr>\n",
              "    <tr>\n",
              "      <th>3</th>\n",
              "      <td>S</td>\n",
              "      <td>F</td>\n",
              "      <td>70000</td>\n",
              "      <td>0</td>\n",
              "      <td>0</td>\n",
              "      <td>Licenciatura</td>\n",
              "      <td>Profesional</td>\n",
              "      <td>0</td>\n",
              "      <td>1</td>\n",
              "      <td>5-10 Miles</td>\n",
              "      <td>Pacific</td>\n",
              "      <td>47</td>\n",
              "      <td>1</td>\n",
              "      <td>11003</td>\n",
              "    </tr>\n",
              "    <tr>\n",
              "      <th>4</th>\n",
              "      <td>S</td>\n",
              "      <td>F</td>\n",
              "      <td>80000</td>\n",
              "      <td>5</td>\n",
              "      <td>5</td>\n",
              "      <td>Licenciatura</td>\n",
              "      <td>Profesional</td>\n",
              "      <td>1</td>\n",
              "      <td>4</td>\n",
              "      <td>1-2 Miles</td>\n",
              "      <td>Pacific</td>\n",
              "      <td>46</td>\n",
              "      <td>1</td>\n",
              "      <td>11004</td>\n",
              "    </tr>\n",
              "  </tbody>\n",
              "</table>\n",
              "</div>\n",
              "      <button class=\"colab-df-convert\" onclick=\"convertToInteractive('df-a414134f-39e3-4ebc-9f6a-ff68d06fc613')\"\n",
              "              title=\"Convert this dataframe to an interactive table.\"\n",
              "              style=\"display:none;\">\n",
              "        \n",
              "  <svg xmlns=\"http://www.w3.org/2000/svg\" height=\"24px\"viewBox=\"0 0 24 24\"\n",
              "       width=\"24px\">\n",
              "    <path d=\"M0 0h24v24H0V0z\" fill=\"none\"/>\n",
              "    <path d=\"M18.56 5.44l.94 2.06.94-2.06 2.06-.94-2.06-.94-.94-2.06-.94 2.06-2.06.94zm-11 1L8.5 8.5l.94-2.06 2.06-.94-2.06-.94L8.5 2.5l-.94 2.06-2.06.94zm10 10l.94 2.06.94-2.06 2.06-.94-2.06-.94-.94-2.06-.94 2.06-2.06.94z\"/><path d=\"M17.41 7.96l-1.37-1.37c-.4-.4-.92-.59-1.43-.59-.52 0-1.04.2-1.43.59L10.3 9.45l-7.72 7.72c-.78.78-.78 2.05 0 2.83L4 21.41c.39.39.9.59 1.41.59.51 0 1.02-.2 1.41-.59l7.78-7.78 2.81-2.81c.8-.78.8-2.07 0-2.86zM5.41 20L4 18.59l7.72-7.72 1.47 1.35L5.41 20z\"/>\n",
              "  </svg>\n",
              "      </button>\n",
              "      \n",
              "  <style>\n",
              "    .colab-df-container {\n",
              "      display:flex;\n",
              "      flex-wrap:wrap;\n",
              "      gap: 12px;\n",
              "    }\n",
              "\n",
              "    .colab-df-convert {\n",
              "      background-color: #E8F0FE;\n",
              "      border: none;\n",
              "      border-radius: 50%;\n",
              "      cursor: pointer;\n",
              "      display: none;\n",
              "      fill: #1967D2;\n",
              "      height: 32px;\n",
              "      padding: 0 0 0 0;\n",
              "      width: 32px;\n",
              "    }\n",
              "\n",
              "    .colab-df-convert:hover {\n",
              "      background-color: #E2EBFA;\n",
              "      box-shadow: 0px 1px 2px rgba(60, 64, 67, 0.3), 0px 1px 3px 1px rgba(60, 64, 67, 0.15);\n",
              "      fill: #174EA6;\n",
              "    }\n",
              "\n",
              "    [theme=dark] .colab-df-convert {\n",
              "      background-color: #3B4455;\n",
              "      fill: #D2E3FC;\n",
              "    }\n",
              "\n",
              "    [theme=dark] .colab-df-convert:hover {\n",
              "      background-color: #434B5C;\n",
              "      box-shadow: 0px 1px 3px 1px rgba(0, 0, 0, 0.15);\n",
              "      filter: drop-shadow(0px 1px 2px rgba(0, 0, 0, 0.3));\n",
              "      fill: #FFFFFF;\n",
              "    }\n",
              "  </style>\n",
              "\n",
              "      <script>\n",
              "        const buttonEl =\n",
              "          document.querySelector('#df-a414134f-39e3-4ebc-9f6a-ff68d06fc613 button.colab-df-convert');\n",
              "        buttonEl.style.display =\n",
              "          google.colab.kernel.accessAllowed ? 'block' : 'none';\n",
              "\n",
              "        async function convertToInteractive(key) {\n",
              "          const element = document.querySelector('#df-a414134f-39e3-4ebc-9f6a-ff68d06fc613');\n",
              "          const dataTable =\n",
              "            await google.colab.kernel.invokeFunction('convertToInteractive',\n",
              "                                                     [key], {});\n",
              "          if (!dataTable) return;\n",
              "\n",
              "          const docLinkHtml = 'Like what you see? Visit the ' +\n",
              "            '<a target=\"_blank\" href=https://colab.research.google.com/notebooks/data_table.ipynb>data table notebook</a>'\n",
              "            + ' to learn more about interactive tables.';\n",
              "          element.innerHTML = '';\n",
              "          dataTable['output_type'] = 'display_data';\n",
              "          await google.colab.output.renderOutput(dataTable, element);\n",
              "          const docLink = document.createElement('div');\n",
              "          docLink.innerHTML = docLinkHtml;\n",
              "          element.appendChild(docLink);\n",
              "        }\n",
              "      </script>\n",
              "    </div>\n",
              "  </div>\n",
              "  "
            ]
          },
          "metadata": {},
          "execution_count": 2
        }
      ]
    },
    {
      "cell_type": "markdown",
      "metadata": {
        "application/vnd.databricks.v1+cell": {
          "title": "",
          "showTitle": false,
          "inputWidgets": {},
          "nuid": "03e4ec0e-8448-4ff6-ac92-414a4bdce20f"
        },
        "id": "qrpUohRO2m7-"
      },
      "source": [
        "##Preparando los datos"
      ]
    },
    {
      "cell_type": "markdown",
      "metadata": {
        "application/vnd.databricks.v1+cell": {
          "title": "",
          "showTitle": false,
          "inputWidgets": {},
          "nuid": "8b80cf61-a6b2-47e8-8230-1d1bb0506853"
        },
        "id": "INmP9jrR2m7-"
      },
      "source": [
        "Se va a realizar una copia del dataframe original <b>df</b>, para no modificar los datos originales, y se van a realizar todas las transformaciones en <b>cluster_df</b>:"
      ]
    },
    {
      "cell_type": "code",
      "metadata": {
        "application/vnd.databricks.v1+cell": {
          "title": "",
          "showTitle": false,
          "inputWidgets": {},
          "nuid": "d0303b6d-9280-4410-b810-c2851b83b05e"
        },
        "colab": {
          "base_uri": "https://localhost:8080/",
          "height": 270
        },
        "id": "dIcA7T5P2m7-",
        "outputId": "4574c038-f965-493c-96f1-a1728b5a32e0"
      },
      "source": [
        "cluster_df = df.copy()\n",
        "cluster_df.head()"
      ],
      "execution_count": null,
      "outputs": [
        {
          "output_type": "execute_result",
          "data": {
            "text/plain": [
              "  MaritalStatus Gender  YearlyIncome  TotalChildren  NumberChildrenAtHome  \\\n",
              "0             M      M         90000              2                     0   \n",
              "1             S      M         60000              3                     3   \n",
              "2             M      M         60000              3                     3   \n",
              "3             S      F         70000              0                     0   \n",
              "4             S      F         80000              5                     5   \n",
              "\n",
              "  SpanishEducation SpanishOccupation  HouseOwnerFlag  NumberCarsOwned  \\\n",
              "0     Licenciatura       Profesional               1                0   \n",
              "1     Licenciatura       Profesional               0                1   \n",
              "2     Licenciatura       Profesional               1                1   \n",
              "3     Licenciatura       Profesional               0                1   \n",
              "4     Licenciatura       Profesional               1                4   \n",
              "\n",
              "  CommuteDistance   Region  Age  BikeBuyer  CustomerKey  \n",
              "0       1-2 Miles  Pacific   49          1        11000  \n",
              "1       0-1 Miles  Pacific   49          1        11001  \n",
              "2       2-5 Miles  Pacific   49          1        11002  \n",
              "3      5-10 Miles  Pacific   47          1        11003  \n",
              "4       1-2 Miles  Pacific   46          1        11004  "
            ],
            "text/html": [
              "\n",
              "  <div id=\"df-11c521ea-6927-4e49-af18-fc3269c9ff66\">\n",
              "    <div class=\"colab-df-container\">\n",
              "      <div>\n",
              "<style scoped>\n",
              "    .dataframe tbody tr th:only-of-type {\n",
              "        vertical-align: middle;\n",
              "    }\n",
              "\n",
              "    .dataframe tbody tr th {\n",
              "        vertical-align: top;\n",
              "    }\n",
              "\n",
              "    .dataframe thead th {\n",
              "        text-align: right;\n",
              "    }\n",
              "</style>\n",
              "<table border=\"1\" class=\"dataframe\">\n",
              "  <thead>\n",
              "    <tr style=\"text-align: right;\">\n",
              "      <th></th>\n",
              "      <th>MaritalStatus</th>\n",
              "      <th>Gender</th>\n",
              "      <th>YearlyIncome</th>\n",
              "      <th>TotalChildren</th>\n",
              "      <th>NumberChildrenAtHome</th>\n",
              "      <th>SpanishEducation</th>\n",
              "      <th>SpanishOccupation</th>\n",
              "      <th>HouseOwnerFlag</th>\n",
              "      <th>NumberCarsOwned</th>\n",
              "      <th>CommuteDistance</th>\n",
              "      <th>Region</th>\n",
              "      <th>Age</th>\n",
              "      <th>BikeBuyer</th>\n",
              "      <th>CustomerKey</th>\n",
              "    </tr>\n",
              "  </thead>\n",
              "  <tbody>\n",
              "    <tr>\n",
              "      <th>0</th>\n",
              "      <td>M</td>\n",
              "      <td>M</td>\n",
              "      <td>90000</td>\n",
              "      <td>2</td>\n",
              "      <td>0</td>\n",
              "      <td>Licenciatura</td>\n",
              "      <td>Profesional</td>\n",
              "      <td>1</td>\n",
              "      <td>0</td>\n",
              "      <td>1-2 Miles</td>\n",
              "      <td>Pacific</td>\n",
              "      <td>49</td>\n",
              "      <td>1</td>\n",
              "      <td>11000</td>\n",
              "    </tr>\n",
              "    <tr>\n",
              "      <th>1</th>\n",
              "      <td>S</td>\n",
              "      <td>M</td>\n",
              "      <td>60000</td>\n",
              "      <td>3</td>\n",
              "      <td>3</td>\n",
              "      <td>Licenciatura</td>\n",
              "      <td>Profesional</td>\n",
              "      <td>0</td>\n",
              "      <td>1</td>\n",
              "      <td>0-1 Miles</td>\n",
              "      <td>Pacific</td>\n",
              "      <td>49</td>\n",
              "      <td>1</td>\n",
              "      <td>11001</td>\n",
              "    </tr>\n",
              "    <tr>\n",
              "      <th>2</th>\n",
              "      <td>M</td>\n",
              "      <td>M</td>\n",
              "      <td>60000</td>\n",
              "      <td>3</td>\n",
              "      <td>3</td>\n",
              "      <td>Licenciatura</td>\n",
              "      <td>Profesional</td>\n",
              "      <td>1</td>\n",
              "      <td>1</td>\n",
              "      <td>2-5 Miles</td>\n",
              "      <td>Pacific</td>\n",
              "      <td>49</td>\n",
              "      <td>1</td>\n",
              "      <td>11002</td>\n",
              "    </tr>\n",
              "    <tr>\n",
              "      <th>3</th>\n",
              "      <td>S</td>\n",
              "      <td>F</td>\n",
              "      <td>70000</td>\n",
              "      <td>0</td>\n",
              "      <td>0</td>\n",
              "      <td>Licenciatura</td>\n",
              "      <td>Profesional</td>\n",
              "      <td>0</td>\n",
              "      <td>1</td>\n",
              "      <td>5-10 Miles</td>\n",
              "      <td>Pacific</td>\n",
              "      <td>47</td>\n",
              "      <td>1</td>\n",
              "      <td>11003</td>\n",
              "    </tr>\n",
              "    <tr>\n",
              "      <th>4</th>\n",
              "      <td>S</td>\n",
              "      <td>F</td>\n",
              "      <td>80000</td>\n",
              "      <td>5</td>\n",
              "      <td>5</td>\n",
              "      <td>Licenciatura</td>\n",
              "      <td>Profesional</td>\n",
              "      <td>1</td>\n",
              "      <td>4</td>\n",
              "      <td>1-2 Miles</td>\n",
              "      <td>Pacific</td>\n",
              "      <td>46</td>\n",
              "      <td>1</td>\n",
              "      <td>11004</td>\n",
              "    </tr>\n",
              "  </tbody>\n",
              "</table>\n",
              "</div>\n",
              "      <button class=\"colab-df-convert\" onclick=\"convertToInteractive('df-11c521ea-6927-4e49-af18-fc3269c9ff66')\"\n",
              "              title=\"Convert this dataframe to an interactive table.\"\n",
              "              style=\"display:none;\">\n",
              "        \n",
              "  <svg xmlns=\"http://www.w3.org/2000/svg\" height=\"24px\"viewBox=\"0 0 24 24\"\n",
              "       width=\"24px\">\n",
              "    <path d=\"M0 0h24v24H0V0z\" fill=\"none\"/>\n",
              "    <path d=\"M18.56 5.44l.94 2.06.94-2.06 2.06-.94-2.06-.94-.94-2.06-.94 2.06-2.06.94zm-11 1L8.5 8.5l.94-2.06 2.06-.94-2.06-.94L8.5 2.5l-.94 2.06-2.06.94zm10 10l.94 2.06.94-2.06 2.06-.94-2.06-.94-.94-2.06-.94 2.06-2.06.94z\"/><path d=\"M17.41 7.96l-1.37-1.37c-.4-.4-.92-.59-1.43-.59-.52 0-1.04.2-1.43.59L10.3 9.45l-7.72 7.72c-.78.78-.78 2.05 0 2.83L4 21.41c.39.39.9.59 1.41.59.51 0 1.02-.2 1.41-.59l7.78-7.78 2.81-2.81c.8-.78.8-2.07 0-2.86zM5.41 20L4 18.59l7.72-7.72 1.47 1.35L5.41 20z\"/>\n",
              "  </svg>\n",
              "      </button>\n",
              "      \n",
              "  <style>\n",
              "    .colab-df-container {\n",
              "      display:flex;\n",
              "      flex-wrap:wrap;\n",
              "      gap: 12px;\n",
              "    }\n",
              "\n",
              "    .colab-df-convert {\n",
              "      background-color: #E8F0FE;\n",
              "      border: none;\n",
              "      border-radius: 50%;\n",
              "      cursor: pointer;\n",
              "      display: none;\n",
              "      fill: #1967D2;\n",
              "      height: 32px;\n",
              "      padding: 0 0 0 0;\n",
              "      width: 32px;\n",
              "    }\n",
              "\n",
              "    .colab-df-convert:hover {\n",
              "      background-color: #E2EBFA;\n",
              "      box-shadow: 0px 1px 2px rgba(60, 64, 67, 0.3), 0px 1px 3px 1px rgba(60, 64, 67, 0.15);\n",
              "      fill: #174EA6;\n",
              "    }\n",
              "\n",
              "    [theme=dark] .colab-df-convert {\n",
              "      background-color: #3B4455;\n",
              "      fill: #D2E3FC;\n",
              "    }\n",
              "\n",
              "    [theme=dark] .colab-df-convert:hover {\n",
              "      background-color: #434B5C;\n",
              "      box-shadow: 0px 1px 3px 1px rgba(0, 0, 0, 0.15);\n",
              "      filter: drop-shadow(0px 1px 2px rgba(0, 0, 0, 0.3));\n",
              "      fill: #FFFFFF;\n",
              "    }\n",
              "  </style>\n",
              "\n",
              "      <script>\n",
              "        const buttonEl =\n",
              "          document.querySelector('#df-11c521ea-6927-4e49-af18-fc3269c9ff66 button.colab-df-convert');\n",
              "        buttonEl.style.display =\n",
              "          google.colab.kernel.accessAllowed ? 'block' : 'none';\n",
              "\n",
              "        async function convertToInteractive(key) {\n",
              "          const element = document.querySelector('#df-11c521ea-6927-4e49-af18-fc3269c9ff66');\n",
              "          const dataTable =\n",
              "            await google.colab.kernel.invokeFunction('convertToInteractive',\n",
              "                                                     [key], {});\n",
              "          if (!dataTable) return;\n",
              "\n",
              "          const docLinkHtml = 'Like what you see? Visit the ' +\n",
              "            '<a target=\"_blank\" href=https://colab.research.google.com/notebooks/data_table.ipynb>data table notebook</a>'\n",
              "            + ' to learn more about interactive tables.';\n",
              "          element.innerHTML = '';\n",
              "          dataTable['output_type'] = 'display_data';\n",
              "          await google.colab.output.renderOutput(dataTable, element);\n",
              "          const docLink = document.createElement('div');\n",
              "          docLink.innerHTML = docLinkHtml;\n",
              "          element.appendChild(docLink);\n",
              "        }\n",
              "      </script>\n",
              "    </div>\n",
              "  </div>\n",
              "  "
            ]
          },
          "metadata": {},
          "execution_count": 3
        }
      ]
    },
    {
      "cell_type": "markdown",
      "metadata": {
        "application/vnd.databricks.v1+cell": {
          "title": "",
          "showTitle": false,
          "inputWidgets": {},
          "nuid": "2812a890-102c-4413-a4d2-7fc38dfb99be"
        },
        "id": "487l0Jto2m7_"
      },
      "source": [
        "La columna <b>CustomerKey</b> tiene todos los valores diferentes por lo que no debe entrar al algoritmo. La columna <b>Region</b> solo posee dos valores, por lo que no aportará mucho a la asignación de clusters, es mejor eliminarla:"
      ]
    },
    {
      "cell_type": "code",
      "metadata": {
        "application/vnd.databricks.v1+cell": {
          "title": "",
          "showTitle": false,
          "inputWidgets": {},
          "nuid": "cd74112b-53a9-4931-b3e1-c4a7ace0f497"
        },
        "id": "cg8HhDMx2m7_"
      },
      "source": [
        "cluster_df.drop(\"CustomerKey\", axis=1, inplace=True)\n",
        "cluster_df.drop(\"Region\", axis=1, inplace=True)"
      ],
      "execution_count": null,
      "outputs": []
    },
    {
      "cell_type": "markdown",
      "metadata": {
        "application/vnd.databricks.v1+cell": {
          "title": "",
          "showTitle": false,
          "inputWidgets": {},
          "nuid": "9da99ec8-01b4-4fc6-8a72-c69bffdccb4e"
        },
        "id": "YNUc2CUm2m7_"
      },
      "source": [
        "Como el algoritmo solo acepta datos numéricos, es necesario Numerizar aquellas columnas que sean categóricas.\n",
        "<p>Las columnas <b>MaritalStatus</b> y <b>Gender</b> se pueden numerizar de 1 a 1, sustituyendo por 0 y 1 sus valores.</p>\n",
        "<p>Las columnas <b>SpanishEducation</b>, <b>SpanishOccupation</b> y <b>CommuteDistance</b> se deben numerizar de 1 a n pues no son ordinales.</p>"
      ]
    },
    {
      "cell_type": "code",
      "metadata": {
        "application/vnd.databricks.v1+cell": {
          "title": "",
          "showTitle": false,
          "inputWidgets": {},
          "nuid": "0d501189-1495-4b35-8221-214090096f0a"
        },
        "colab": {
          "base_uri": "https://localhost:8080/"
        },
        "id": "OK5tajgu2m8A",
        "outputId": "62e7b172-7db4-4e11-8251-d68636ceb32a"
      },
      "source": [
        "cluster_df[\"CommuteDistance\"].value_counts()"
      ],
      "execution_count": null,
      "outputs": [
        {
          "output_type": "execute_result",
          "data": {
            "text/plain": [
              "0-1 Miles     6310\n",
              "2-5 Miles     3234\n",
              "1-2 Miles     3232\n",
              "5-10 Miles    3214\n",
              "10+ Miles     2494\n",
              "Name: CommuteDistance, dtype: int64"
            ]
          },
          "metadata": {},
          "execution_count": 5
        }
      ]
    },
    {
      "cell_type": "code",
      "metadata": {
        "colab": {
          "base_uri": "https://localhost:8080/"
        },
        "id": "hyavWQLJJOrj",
        "outputId": "de5b4b25-8c1a-4a69-d550-4a4dd97df802"
      },
      "source": [
        "\n",
        "cluster_df[\"SpanishEducation\"].value_counts()"
      ],
      "execution_count": null,
      "outputs": [
        {
          "output_type": "execute_result",
          "data": {
            "text/plain": [
              "Licenciatura                          5356\n",
              "Estudios universitarios (en curso)    5064\n",
              "Educación secundaria                  3294\n",
              "Estudios de postgrado                 3189\n",
              "Educación secundaria (en curso)       1581\n",
              "Name: SpanishEducation, dtype: int64"
            ]
          },
          "metadata": {},
          "execution_count": 6
        }
      ]
    },
    {
      "cell_type": "code",
      "metadata": {
        "colab": {
          "base_uri": "https://localhost:8080/"
        },
        "id": "w-RJ1agVJxZA",
        "outputId": "c9122249-70bd-4afc-eef7-5753e6c86633"
      },
      "source": [
        "cluster_df[\"SpanishOccupation\"].value_counts()"
      ],
      "execution_count": null,
      "outputs": [
        {
          "output_type": "execute_result",
          "data": {
            "text/plain": [
              "Profesional             5520\n",
              "Obrero especializado    4577\n",
              "Gestión                 3075\n",
              "Administrativo          2928\n",
              "Obrero                  2384\n",
              "Name: SpanishOccupation, dtype: int64"
            ]
          },
          "metadata": {},
          "execution_count": 7
        }
      ]
    },
    {
      "cell_type": "code",
      "metadata": {
        "id": "FEv6lobBH1cY"
      },
      "source": [
        "from sklearn import preprocessing #Importa funciones para el procesamiento de los datos\n",
        "#Numerizacion 1 a 1\n",
        "le_DT = preprocessing.LabelEncoder()\n",
        "le_DT.fit(['0-1 Miles', '1-2 Miles','2-5 Miles','5-10 Miles','10+ Miles'])\n",
        "cluster_df.CommuteDistance= le_DT.transform(cluster_df.CommuteDistance)\n",
        "\n",
        "le_sex = preprocessing.LabelEncoder()\n",
        "le_sex.fit(['F','M'])\n",
        "cluster_df.Gender= le_sex.transform(cluster_df.Gender)\n",
        "\n",
        "le_EC = preprocessing.LabelEncoder()\n",
        "le_EC.fit([ 'M', 'S'])\n",
        "cluster_df.MaritalStatus= le_EC.transform(cluster_df.MaritalStatus)\n",
        "\n",
        "le_Edu = preprocessing.LabelEncoder()\n",
        "le_Edu.fit(['Educación secundaria (en curso)', 'Educación secundaria', 'Estudios universitarios (en curso)','Licenciatura','Estudios de postgrado'])\n",
        "cluster_df.SpanishEducation = le_Edu.transform(cluster_df.SpanishEducation)"
      ],
      "execution_count": null,
      "outputs": []
    },
    {
      "cell_type": "code",
      "metadata": {
        "id": "C9l7eVwMJZY_"
      },
      "source": [
        "#Numerizacion 1 a n\n",
        "cluster_df = pd.get_dummies(cluster_df, columns = [\"SpanishOccupation\"])\n"
      ],
      "execution_count": null,
      "outputs": []
    },
    {
      "cell_type": "code",
      "metadata": {
        "id": "hzFrl4ddMP5X"
      },
      "source": [
        "# Al hacer numerización 1 a n es importante eliminar una de las columnas generadas para evitar las relaciones de correlación entre ellas\n",
        "# Se suele eliminar el menos usado (el que tiene menos registros positivos)\n",
        "cluster_df.drop(\"SpanishOccupation_Obrero\", axis=1, inplace=True)"
      ],
      "execution_count": null,
      "outputs": []
    },
    {
      "cell_type": "code",
      "metadata": {
        "colab": {
          "base_uri": "https://localhost:8080/",
          "height": 288
        },
        "id": "-4laki51I_29",
        "outputId": "1d819bc6-3b52-4675-c508-548a8ceb553a"
      },
      "source": [
        "cluster_df.head()"
      ],
      "execution_count": null,
      "outputs": [
        {
          "output_type": "execute_result",
          "data": {
            "text/plain": [
              "   MaritalStatus  Gender  YearlyIncome  TotalChildren  NumberChildrenAtHome  \\\n",
              "0              0       1         90000              2                     0   \n",
              "1              1       1         60000              3                     3   \n",
              "2              0       1         60000              3                     3   \n",
              "3              1       0         70000              0                     0   \n",
              "4              1       0         80000              5                     5   \n",
              "\n",
              "   SpanishEducation  HouseOwnerFlag  NumberCarsOwned  CommuteDistance  Age  \\\n",
              "0                 4               1                0                1   49   \n",
              "1                 4               0                1                0   49   \n",
              "2                 4               1                1                3   49   \n",
              "3                 4               0                1                4   47   \n",
              "4                 4               1                4                1   46   \n",
              "\n",
              "   BikeBuyer  SpanishOccupation_Administrativo  SpanishOccupation_Gestión  \\\n",
              "0          1                                 0                          0   \n",
              "1          1                                 0                          0   \n",
              "2          1                                 0                          0   \n",
              "3          1                                 0                          0   \n",
              "4          1                                 0                          0   \n",
              "\n",
              "   SpanishOccupation_Obrero especializado  SpanishOccupation_Profesional  \n",
              "0                                       0                              1  \n",
              "1                                       0                              1  \n",
              "2                                       0                              1  \n",
              "3                                       0                              1  \n",
              "4                                       0                              1  "
            ],
            "text/html": [
              "\n",
              "  <div id=\"df-35034e46-abbc-45e9-ad02-eef3811dbb8b\">\n",
              "    <div class=\"colab-df-container\">\n",
              "      <div>\n",
              "<style scoped>\n",
              "    .dataframe tbody tr th:only-of-type {\n",
              "        vertical-align: middle;\n",
              "    }\n",
              "\n",
              "    .dataframe tbody tr th {\n",
              "        vertical-align: top;\n",
              "    }\n",
              "\n",
              "    .dataframe thead th {\n",
              "        text-align: right;\n",
              "    }\n",
              "</style>\n",
              "<table border=\"1\" class=\"dataframe\">\n",
              "  <thead>\n",
              "    <tr style=\"text-align: right;\">\n",
              "      <th></th>\n",
              "      <th>MaritalStatus</th>\n",
              "      <th>Gender</th>\n",
              "      <th>YearlyIncome</th>\n",
              "      <th>TotalChildren</th>\n",
              "      <th>NumberChildrenAtHome</th>\n",
              "      <th>SpanishEducation</th>\n",
              "      <th>HouseOwnerFlag</th>\n",
              "      <th>NumberCarsOwned</th>\n",
              "      <th>CommuteDistance</th>\n",
              "      <th>Age</th>\n",
              "      <th>BikeBuyer</th>\n",
              "      <th>SpanishOccupation_Administrativo</th>\n",
              "      <th>SpanishOccupation_Gestión</th>\n",
              "      <th>SpanishOccupation_Obrero especializado</th>\n",
              "      <th>SpanishOccupation_Profesional</th>\n",
              "    </tr>\n",
              "  </thead>\n",
              "  <tbody>\n",
              "    <tr>\n",
              "      <th>0</th>\n",
              "      <td>0</td>\n",
              "      <td>1</td>\n",
              "      <td>90000</td>\n",
              "      <td>2</td>\n",
              "      <td>0</td>\n",
              "      <td>4</td>\n",
              "      <td>1</td>\n",
              "      <td>0</td>\n",
              "      <td>1</td>\n",
              "      <td>49</td>\n",
              "      <td>1</td>\n",
              "      <td>0</td>\n",
              "      <td>0</td>\n",
              "      <td>0</td>\n",
              "      <td>1</td>\n",
              "    </tr>\n",
              "    <tr>\n",
              "      <th>1</th>\n",
              "      <td>1</td>\n",
              "      <td>1</td>\n",
              "      <td>60000</td>\n",
              "      <td>3</td>\n",
              "      <td>3</td>\n",
              "      <td>4</td>\n",
              "      <td>0</td>\n",
              "      <td>1</td>\n",
              "      <td>0</td>\n",
              "      <td>49</td>\n",
              "      <td>1</td>\n",
              "      <td>0</td>\n",
              "      <td>0</td>\n",
              "      <td>0</td>\n",
              "      <td>1</td>\n",
              "    </tr>\n",
              "    <tr>\n",
              "      <th>2</th>\n",
              "      <td>0</td>\n",
              "      <td>1</td>\n",
              "      <td>60000</td>\n",
              "      <td>3</td>\n",
              "      <td>3</td>\n",
              "      <td>4</td>\n",
              "      <td>1</td>\n",
              "      <td>1</td>\n",
              "      <td>3</td>\n",
              "      <td>49</td>\n",
              "      <td>1</td>\n",
              "      <td>0</td>\n",
              "      <td>0</td>\n",
              "      <td>0</td>\n",
              "      <td>1</td>\n",
              "    </tr>\n",
              "    <tr>\n",
              "      <th>3</th>\n",
              "      <td>1</td>\n",
              "      <td>0</td>\n",
              "      <td>70000</td>\n",
              "      <td>0</td>\n",
              "      <td>0</td>\n",
              "      <td>4</td>\n",
              "      <td>0</td>\n",
              "      <td>1</td>\n",
              "      <td>4</td>\n",
              "      <td>47</td>\n",
              "      <td>1</td>\n",
              "      <td>0</td>\n",
              "      <td>0</td>\n",
              "      <td>0</td>\n",
              "      <td>1</td>\n",
              "    </tr>\n",
              "    <tr>\n",
              "      <th>4</th>\n",
              "      <td>1</td>\n",
              "      <td>0</td>\n",
              "      <td>80000</td>\n",
              "      <td>5</td>\n",
              "      <td>5</td>\n",
              "      <td>4</td>\n",
              "      <td>1</td>\n",
              "      <td>4</td>\n",
              "      <td>1</td>\n",
              "      <td>46</td>\n",
              "      <td>1</td>\n",
              "      <td>0</td>\n",
              "      <td>0</td>\n",
              "      <td>0</td>\n",
              "      <td>1</td>\n",
              "    </tr>\n",
              "  </tbody>\n",
              "</table>\n",
              "</div>\n",
              "      <button class=\"colab-df-convert\" onclick=\"convertToInteractive('df-35034e46-abbc-45e9-ad02-eef3811dbb8b')\"\n",
              "              title=\"Convert this dataframe to an interactive table.\"\n",
              "              style=\"display:none;\">\n",
              "        \n",
              "  <svg xmlns=\"http://www.w3.org/2000/svg\" height=\"24px\"viewBox=\"0 0 24 24\"\n",
              "       width=\"24px\">\n",
              "    <path d=\"M0 0h24v24H0V0z\" fill=\"none\"/>\n",
              "    <path d=\"M18.56 5.44l.94 2.06.94-2.06 2.06-.94-2.06-.94-.94-2.06-.94 2.06-2.06.94zm-11 1L8.5 8.5l.94-2.06 2.06-.94-2.06-.94L8.5 2.5l-.94 2.06-2.06.94zm10 10l.94 2.06.94-2.06 2.06-.94-2.06-.94-.94-2.06-.94 2.06-2.06.94z\"/><path d=\"M17.41 7.96l-1.37-1.37c-.4-.4-.92-.59-1.43-.59-.52 0-1.04.2-1.43.59L10.3 9.45l-7.72 7.72c-.78.78-.78 2.05 0 2.83L4 21.41c.39.39.9.59 1.41.59.51 0 1.02-.2 1.41-.59l7.78-7.78 2.81-2.81c.8-.78.8-2.07 0-2.86zM5.41 20L4 18.59l7.72-7.72 1.47 1.35L5.41 20z\"/>\n",
              "  </svg>\n",
              "      </button>\n",
              "      \n",
              "  <style>\n",
              "    .colab-df-container {\n",
              "      display:flex;\n",
              "      flex-wrap:wrap;\n",
              "      gap: 12px;\n",
              "    }\n",
              "\n",
              "    .colab-df-convert {\n",
              "      background-color: #E8F0FE;\n",
              "      border: none;\n",
              "      border-radius: 50%;\n",
              "      cursor: pointer;\n",
              "      display: none;\n",
              "      fill: #1967D2;\n",
              "      height: 32px;\n",
              "      padding: 0 0 0 0;\n",
              "      width: 32px;\n",
              "    }\n",
              "\n",
              "    .colab-df-convert:hover {\n",
              "      background-color: #E2EBFA;\n",
              "      box-shadow: 0px 1px 2px rgba(60, 64, 67, 0.3), 0px 1px 3px 1px rgba(60, 64, 67, 0.15);\n",
              "      fill: #174EA6;\n",
              "    }\n",
              "\n",
              "    [theme=dark] .colab-df-convert {\n",
              "      background-color: #3B4455;\n",
              "      fill: #D2E3FC;\n",
              "    }\n",
              "\n",
              "    [theme=dark] .colab-df-convert:hover {\n",
              "      background-color: #434B5C;\n",
              "      box-shadow: 0px 1px 3px 1px rgba(0, 0, 0, 0.15);\n",
              "      filter: drop-shadow(0px 1px 2px rgba(0, 0, 0, 0.3));\n",
              "      fill: #FFFFFF;\n",
              "    }\n",
              "  </style>\n",
              "\n",
              "      <script>\n",
              "        const buttonEl =\n",
              "          document.querySelector('#df-35034e46-abbc-45e9-ad02-eef3811dbb8b button.colab-df-convert');\n",
              "        buttonEl.style.display =\n",
              "          google.colab.kernel.accessAllowed ? 'block' : 'none';\n",
              "\n",
              "        async function convertToInteractive(key) {\n",
              "          const element = document.querySelector('#df-35034e46-abbc-45e9-ad02-eef3811dbb8b');\n",
              "          const dataTable =\n",
              "            await google.colab.kernel.invokeFunction('convertToInteractive',\n",
              "                                                     [key], {});\n",
              "          if (!dataTable) return;\n",
              "\n",
              "          const docLinkHtml = 'Like what you see? Visit the ' +\n",
              "            '<a target=\"_blank\" href=https://colab.research.google.com/notebooks/data_table.ipynb>data table notebook</a>'\n",
              "            + ' to learn more about interactive tables.';\n",
              "          element.innerHTML = '';\n",
              "          dataTable['output_type'] = 'display_data';\n",
              "          await google.colab.output.renderOutput(dataTable, element);\n",
              "          const docLink = document.createElement('div');\n",
              "          docLink.innerHTML = docLinkHtml;\n",
              "          element.appendChild(docLink);\n",
              "        }\n",
              "      </script>\n",
              "    </div>\n",
              "  </div>\n",
              "  "
            ]
          },
          "metadata": {},
          "execution_count": 11
        }
      ]
    },
    {
      "cell_type": "markdown",
      "source": [],
      "metadata": {
        "id": "sH1wQvG3ifyX"
      }
    },
    {
      "cell_type": "code",
      "source": [
        "# Guardaremos los datos numerizados para futuros experimentos\n",
        "df_numerizado = cluster_df.copy()"
      ],
      "metadata": {
        "id": "Fg8OCOORvWUy"
      },
      "execution_count": null,
      "outputs": []
    },
    {
      "cell_type": "markdown",
      "metadata": {
        "application/vnd.databricks.v1+cell": {
          "title": "",
          "showTitle": false,
          "inputWidgets": {},
          "nuid": "8194cfe3-9d46-4b18-a29c-5c65328ee74a"
        },
        "id": "gVjMtfj72m8B"
      },
      "source": [
        "La técnica de clustering es una técnica basada en distancias, por lo que es muy importante realizar la <b>Normalización</b> de todas las variables. Se aplicará la normalización MinMax:"
      ]
    },
    {
      "cell_type": "code",
      "metadata": {
        "id": "OM7VieRy4oif"
      },
      "source": [
        "from sklearn.preprocessing import MinMaxScaler # Importa métodos para normalizar usando minMax\n",
        "# Realizaremos normalización MIN-MAX para que todos los atributos queden entre 0 y 1. Puedes modificar el rango.\n",
        "min_max_scaler = MinMaxScaler()\n",
        "cluster_df[:] = min_max_scaler.fit_transform(cluster_df)"
      ],
      "execution_count": null,
      "outputs": []
    },
    {
      "cell_type": "code",
      "metadata": {
        "colab": {
          "base_uri": "https://localhost:8080/",
          "height": 505
        },
        "id": "UWm0TAAQ5E6j",
        "outputId": "76c69741-29b6-4733-fd9b-5f3ee52f29a6"
      },
      "source": [
        "# Guardaremos la vista minable para posteriormente hacer experimentos\n",
        "df_numerizado_normalizadoMinMax = cluster_df.copy()\n",
        "cluster_df # La visa minable que será usada: Numerizada, normalizada"
      ],
      "execution_count": null,
      "outputs": [
        {
          "output_type": "execute_result",
          "data": {
            "text/plain": [
              "       MaritalStatus  Gender  YearlyIncome  TotalChildren  \\\n",
              "0                0.0     1.0        0.5000            0.4   \n",
              "1                1.0     1.0        0.3125            0.6   \n",
              "2                0.0     1.0        0.3125            0.6   \n",
              "3                1.0     0.0        0.3750            0.0   \n",
              "4                1.0     0.0        0.4375            1.0   \n",
              "...              ...     ...           ...            ...   \n",
              "18479            0.0     1.0        0.1250            0.2   \n",
              "18480            1.0     0.0        0.1250            0.6   \n",
              "18481            1.0     1.0        0.1250            0.6   \n",
              "18482            0.0     1.0        0.1250            0.6   \n",
              "18483            0.0     1.0        0.1250            0.0   \n",
              "\n",
              "       NumberChildrenAtHome  SpanishEducation  HouseOwnerFlag  \\\n",
              "0                       0.0               1.0             1.0   \n",
              "1                       0.6               1.0             0.0   \n",
              "2                       0.6               1.0             1.0   \n",
              "3                       0.0               1.0             0.0   \n",
              "4                       1.0               1.0             1.0   \n",
              "...                     ...               ...             ...   \n",
              "18479                   0.0               0.5             1.0   \n",
              "18480                   0.0               0.5             1.0   \n",
              "18481                   0.0               0.5             0.0   \n",
              "18482                   0.0               1.0             1.0   \n",
              "18483                   0.0               1.0             1.0   \n",
              "\n",
              "       NumberCarsOwned  CommuteDistance       Age  BikeBuyer  \\\n",
              "0                 0.00             0.25  0.214286        1.0   \n",
              "1                 0.25             0.00  0.214286        1.0   \n",
              "2                 0.25             0.75  0.214286        1.0   \n",
              "3                 0.25             1.00  0.185714        1.0   \n",
              "4                 1.00             0.25  0.171429        1.0   \n",
              "...                ...              ...       ...        ...   \n",
              "18479             0.00             0.00  0.314286        1.0   \n",
              "18480             0.00             0.00  0.285714        1.0   \n",
              "18481             0.00             0.00  0.300000        1.0   \n",
              "18482             0.00             0.00  0.314286        1.0   \n",
              "18483             0.00             0.00  0.300000        1.0   \n",
              "\n",
              "       SpanishOccupation_Administrativo  SpanishOccupation_Gestión  \\\n",
              "0                                   0.0                        0.0   \n",
              "1                                   0.0                        0.0   \n",
              "2                                   0.0                        0.0   \n",
              "3                                   0.0                        0.0   \n",
              "4                                   0.0                        0.0   \n",
              "...                                 ...                        ...   \n",
              "18479                               1.0                        0.0   \n",
              "18480                               1.0                        0.0   \n",
              "18481                               1.0                        0.0   \n",
              "18482                               1.0                        0.0   \n",
              "18483                               1.0                        0.0   \n",
              "\n",
              "       SpanishOccupation_Obrero especializado  SpanishOccupation_Profesional  \n",
              "0                                         0.0                            1.0  \n",
              "1                                         0.0                            1.0  \n",
              "2                                         0.0                            1.0  \n",
              "3                                         0.0                            1.0  \n",
              "4                                         0.0                            1.0  \n",
              "...                                       ...                            ...  \n",
              "18479                                     0.0                            0.0  \n",
              "18480                                     0.0                            0.0  \n",
              "18481                                     0.0                            0.0  \n",
              "18482                                     0.0                            0.0  \n",
              "18483                                     0.0                            0.0  \n",
              "\n",
              "[18484 rows x 15 columns]"
            ],
            "text/html": [
              "\n",
              "  <div id=\"df-8c636d8b-6b62-49e6-a651-e026e6d557a2\">\n",
              "    <div class=\"colab-df-container\">\n",
              "      <div>\n",
              "<style scoped>\n",
              "    .dataframe tbody tr th:only-of-type {\n",
              "        vertical-align: middle;\n",
              "    }\n",
              "\n",
              "    .dataframe tbody tr th {\n",
              "        vertical-align: top;\n",
              "    }\n",
              "\n",
              "    .dataframe thead th {\n",
              "        text-align: right;\n",
              "    }\n",
              "</style>\n",
              "<table border=\"1\" class=\"dataframe\">\n",
              "  <thead>\n",
              "    <tr style=\"text-align: right;\">\n",
              "      <th></th>\n",
              "      <th>MaritalStatus</th>\n",
              "      <th>Gender</th>\n",
              "      <th>YearlyIncome</th>\n",
              "      <th>TotalChildren</th>\n",
              "      <th>NumberChildrenAtHome</th>\n",
              "      <th>SpanishEducation</th>\n",
              "      <th>HouseOwnerFlag</th>\n",
              "      <th>NumberCarsOwned</th>\n",
              "      <th>CommuteDistance</th>\n",
              "      <th>Age</th>\n",
              "      <th>BikeBuyer</th>\n",
              "      <th>SpanishOccupation_Administrativo</th>\n",
              "      <th>SpanishOccupation_Gestión</th>\n",
              "      <th>SpanishOccupation_Obrero especializado</th>\n",
              "      <th>SpanishOccupation_Profesional</th>\n",
              "    </tr>\n",
              "  </thead>\n",
              "  <tbody>\n",
              "    <tr>\n",
              "      <th>0</th>\n",
              "      <td>0.0</td>\n",
              "      <td>1.0</td>\n",
              "      <td>0.5000</td>\n",
              "      <td>0.4</td>\n",
              "      <td>0.0</td>\n",
              "      <td>1.0</td>\n",
              "      <td>1.0</td>\n",
              "      <td>0.00</td>\n",
              "      <td>0.25</td>\n",
              "      <td>0.214286</td>\n",
              "      <td>1.0</td>\n",
              "      <td>0.0</td>\n",
              "      <td>0.0</td>\n",
              "      <td>0.0</td>\n",
              "      <td>1.0</td>\n",
              "    </tr>\n",
              "    <tr>\n",
              "      <th>1</th>\n",
              "      <td>1.0</td>\n",
              "      <td>1.0</td>\n",
              "      <td>0.3125</td>\n",
              "      <td>0.6</td>\n",
              "      <td>0.6</td>\n",
              "      <td>1.0</td>\n",
              "      <td>0.0</td>\n",
              "      <td>0.25</td>\n",
              "      <td>0.00</td>\n",
              "      <td>0.214286</td>\n",
              "      <td>1.0</td>\n",
              "      <td>0.0</td>\n",
              "      <td>0.0</td>\n",
              "      <td>0.0</td>\n",
              "      <td>1.0</td>\n",
              "    </tr>\n",
              "    <tr>\n",
              "      <th>2</th>\n",
              "      <td>0.0</td>\n",
              "      <td>1.0</td>\n",
              "      <td>0.3125</td>\n",
              "      <td>0.6</td>\n",
              "      <td>0.6</td>\n",
              "      <td>1.0</td>\n",
              "      <td>1.0</td>\n",
              "      <td>0.25</td>\n",
              "      <td>0.75</td>\n",
              "      <td>0.214286</td>\n",
              "      <td>1.0</td>\n",
              "      <td>0.0</td>\n",
              "      <td>0.0</td>\n",
              "      <td>0.0</td>\n",
              "      <td>1.0</td>\n",
              "    </tr>\n",
              "    <tr>\n",
              "      <th>3</th>\n",
              "      <td>1.0</td>\n",
              "      <td>0.0</td>\n",
              "      <td>0.3750</td>\n",
              "      <td>0.0</td>\n",
              "      <td>0.0</td>\n",
              "      <td>1.0</td>\n",
              "      <td>0.0</td>\n",
              "      <td>0.25</td>\n",
              "      <td>1.00</td>\n",
              "      <td>0.185714</td>\n",
              "      <td>1.0</td>\n",
              "      <td>0.0</td>\n",
              "      <td>0.0</td>\n",
              "      <td>0.0</td>\n",
              "      <td>1.0</td>\n",
              "    </tr>\n",
              "    <tr>\n",
              "      <th>4</th>\n",
              "      <td>1.0</td>\n",
              "      <td>0.0</td>\n",
              "      <td>0.4375</td>\n",
              "      <td>1.0</td>\n",
              "      <td>1.0</td>\n",
              "      <td>1.0</td>\n",
              "      <td>1.0</td>\n",
              "      <td>1.00</td>\n",
              "      <td>0.25</td>\n",
              "      <td>0.171429</td>\n",
              "      <td>1.0</td>\n",
              "      <td>0.0</td>\n",
              "      <td>0.0</td>\n",
              "      <td>0.0</td>\n",
              "      <td>1.0</td>\n",
              "    </tr>\n",
              "    <tr>\n",
              "      <th>...</th>\n",
              "      <td>...</td>\n",
              "      <td>...</td>\n",
              "      <td>...</td>\n",
              "      <td>...</td>\n",
              "      <td>...</td>\n",
              "      <td>...</td>\n",
              "      <td>...</td>\n",
              "      <td>...</td>\n",
              "      <td>...</td>\n",
              "      <td>...</td>\n",
              "      <td>...</td>\n",
              "      <td>...</td>\n",
              "      <td>...</td>\n",
              "      <td>...</td>\n",
              "      <td>...</td>\n",
              "    </tr>\n",
              "    <tr>\n",
              "      <th>18479</th>\n",
              "      <td>0.0</td>\n",
              "      <td>1.0</td>\n",
              "      <td>0.1250</td>\n",
              "      <td>0.2</td>\n",
              "      <td>0.0</td>\n",
              "      <td>0.5</td>\n",
              "      <td>1.0</td>\n",
              "      <td>0.00</td>\n",
              "      <td>0.00</td>\n",
              "      <td>0.314286</td>\n",
              "      <td>1.0</td>\n",
              "      <td>1.0</td>\n",
              "      <td>0.0</td>\n",
              "      <td>0.0</td>\n",
              "      <td>0.0</td>\n",
              "    </tr>\n",
              "    <tr>\n",
              "      <th>18480</th>\n",
              "      <td>1.0</td>\n",
              "      <td>0.0</td>\n",
              "      <td>0.1250</td>\n",
              "      <td>0.6</td>\n",
              "      <td>0.0</td>\n",
              "      <td>0.5</td>\n",
              "      <td>1.0</td>\n",
              "      <td>0.00</td>\n",
              "      <td>0.00</td>\n",
              "      <td>0.285714</td>\n",
              "      <td>1.0</td>\n",
              "      <td>1.0</td>\n",
              "      <td>0.0</td>\n",
              "      <td>0.0</td>\n",
              "      <td>0.0</td>\n",
              "    </tr>\n",
              "    <tr>\n",
              "      <th>18481</th>\n",
              "      <td>1.0</td>\n",
              "      <td>1.0</td>\n",
              "      <td>0.1250</td>\n",
              "      <td>0.6</td>\n",
              "      <td>0.0</td>\n",
              "      <td>0.5</td>\n",
              "      <td>0.0</td>\n",
              "      <td>0.00</td>\n",
              "      <td>0.00</td>\n",
              "      <td>0.300000</td>\n",
              "      <td>1.0</td>\n",
              "      <td>1.0</td>\n",
              "      <td>0.0</td>\n",
              "      <td>0.0</td>\n",
              "      <td>0.0</td>\n",
              "    </tr>\n",
              "    <tr>\n",
              "      <th>18482</th>\n",
              "      <td>0.0</td>\n",
              "      <td>1.0</td>\n",
              "      <td>0.1250</td>\n",
              "      <td>0.6</td>\n",
              "      <td>0.0</td>\n",
              "      <td>1.0</td>\n",
              "      <td>1.0</td>\n",
              "      <td>0.00</td>\n",
              "      <td>0.00</td>\n",
              "      <td>0.314286</td>\n",
              "      <td>1.0</td>\n",
              "      <td>1.0</td>\n",
              "      <td>0.0</td>\n",
              "      <td>0.0</td>\n",
              "      <td>0.0</td>\n",
              "    </tr>\n",
              "    <tr>\n",
              "      <th>18483</th>\n",
              "      <td>0.0</td>\n",
              "      <td>1.0</td>\n",
              "      <td>0.1250</td>\n",
              "      <td>0.0</td>\n",
              "      <td>0.0</td>\n",
              "      <td>1.0</td>\n",
              "      <td>1.0</td>\n",
              "      <td>0.00</td>\n",
              "      <td>0.00</td>\n",
              "      <td>0.300000</td>\n",
              "      <td>1.0</td>\n",
              "      <td>1.0</td>\n",
              "      <td>0.0</td>\n",
              "      <td>0.0</td>\n",
              "      <td>0.0</td>\n",
              "    </tr>\n",
              "  </tbody>\n",
              "</table>\n",
              "<p>18484 rows × 15 columns</p>\n",
              "</div>\n",
              "      <button class=\"colab-df-convert\" onclick=\"convertToInteractive('df-8c636d8b-6b62-49e6-a651-e026e6d557a2')\"\n",
              "              title=\"Convert this dataframe to an interactive table.\"\n",
              "              style=\"display:none;\">\n",
              "        \n",
              "  <svg xmlns=\"http://www.w3.org/2000/svg\" height=\"24px\"viewBox=\"0 0 24 24\"\n",
              "       width=\"24px\">\n",
              "    <path d=\"M0 0h24v24H0V0z\" fill=\"none\"/>\n",
              "    <path d=\"M18.56 5.44l.94 2.06.94-2.06 2.06-.94-2.06-.94-.94-2.06-.94 2.06-2.06.94zm-11 1L8.5 8.5l.94-2.06 2.06-.94-2.06-.94L8.5 2.5l-.94 2.06-2.06.94zm10 10l.94 2.06.94-2.06 2.06-.94-2.06-.94-.94-2.06-.94 2.06-2.06.94z\"/><path d=\"M17.41 7.96l-1.37-1.37c-.4-.4-.92-.59-1.43-.59-.52 0-1.04.2-1.43.59L10.3 9.45l-7.72 7.72c-.78.78-.78 2.05 0 2.83L4 21.41c.39.39.9.59 1.41.59.51 0 1.02-.2 1.41-.59l7.78-7.78 2.81-2.81c.8-.78.8-2.07 0-2.86zM5.41 20L4 18.59l7.72-7.72 1.47 1.35L5.41 20z\"/>\n",
              "  </svg>\n",
              "      </button>\n",
              "      \n",
              "  <style>\n",
              "    .colab-df-container {\n",
              "      display:flex;\n",
              "      flex-wrap:wrap;\n",
              "      gap: 12px;\n",
              "    }\n",
              "\n",
              "    .colab-df-convert {\n",
              "      background-color: #E8F0FE;\n",
              "      border: none;\n",
              "      border-radius: 50%;\n",
              "      cursor: pointer;\n",
              "      display: none;\n",
              "      fill: #1967D2;\n",
              "      height: 32px;\n",
              "      padding: 0 0 0 0;\n",
              "      width: 32px;\n",
              "    }\n",
              "\n",
              "    .colab-df-convert:hover {\n",
              "      background-color: #E2EBFA;\n",
              "      box-shadow: 0px 1px 2px rgba(60, 64, 67, 0.3), 0px 1px 3px 1px rgba(60, 64, 67, 0.15);\n",
              "      fill: #174EA6;\n",
              "    }\n",
              "\n",
              "    [theme=dark] .colab-df-convert {\n",
              "      background-color: #3B4455;\n",
              "      fill: #D2E3FC;\n",
              "    }\n",
              "\n",
              "    [theme=dark] .colab-df-convert:hover {\n",
              "      background-color: #434B5C;\n",
              "      box-shadow: 0px 1px 3px 1px rgba(0, 0, 0, 0.15);\n",
              "      filter: drop-shadow(0px 1px 2px rgba(0, 0, 0, 0.3));\n",
              "      fill: #FFFFFF;\n",
              "    }\n",
              "  </style>\n",
              "\n",
              "      <script>\n",
              "        const buttonEl =\n",
              "          document.querySelector('#df-8c636d8b-6b62-49e6-a651-e026e6d557a2 button.colab-df-convert');\n",
              "        buttonEl.style.display =\n",
              "          google.colab.kernel.accessAllowed ? 'block' : 'none';\n",
              "\n",
              "        async function convertToInteractive(key) {\n",
              "          const element = document.querySelector('#df-8c636d8b-6b62-49e6-a651-e026e6d557a2');\n",
              "          const dataTable =\n",
              "            await google.colab.kernel.invokeFunction('convertToInteractive',\n",
              "                                                     [key], {});\n",
              "          if (!dataTable) return;\n",
              "\n",
              "          const docLinkHtml = 'Like what you see? Visit the ' +\n",
              "            '<a target=\"_blank\" href=https://colab.research.google.com/notebooks/data_table.ipynb>data table notebook</a>'\n",
              "            + ' to learn more about interactive tables.';\n",
              "          element.innerHTML = '';\n",
              "          dataTable['output_type'] = 'display_data';\n",
              "          await google.colab.output.renderOutput(dataTable, element);\n",
              "          const docLink = document.createElement('div');\n",
              "          docLink.innerHTML = docLinkHtml;\n",
              "          element.appendChild(docLink);\n",
              "        }\n",
              "      </script>\n",
              "    </div>\n",
              "  </div>\n",
              "  "
            ]
          },
          "metadata": {},
          "execution_count": 14
        }
      ]
    },
    {
      "cell_type": "markdown",
      "metadata": {
        "application/vnd.databricks.v1+cell": {
          "title": "",
          "showTitle": false,
          "inputWidgets": {},
          "nuid": "98aaa4d6-f755-4f3c-85d9-1eb7d17d05ae"
        },
        "id": "oqsy-40L2m8C"
      },
      "source": [
        "##Aplicando el algoritmo"
      ]
    },
    {
      "cell_type": "markdown",
      "metadata": {
        "application/vnd.databricks.v1+cell": {
          "title": "",
          "showTitle": false,
          "inputWidgets": {},
          "nuid": "5499e30b-0c2f-4307-aedb-f15700fa10bc"
        },
        "id": "kEApcH2G2m8C"
      },
      "source": [
        "Se configura el algoritmo para ejecutarse utilizando "
      ]
    },
    {
      "cell_type": "code",
      "metadata": {
        "application/vnd.databricks.v1+cell": {
          "title": "",
          "showTitle": false,
          "inputWidgets": {},
          "nuid": "5d58a250-6836-4a7a-88de-5d7cd7d1bd1c"
        },
        "id": "qoK1vYhV2m8C"
      },
      "source": [
        "from sklearn.cluster import KMeans\n",
        "clusterer = KMeans(init = \"k-means++\", n_clusters = 6, n_init = 12, max_iter=500, random_state=1)"
      ],
      "execution_count": null,
      "outputs": []
    },
    {
      "cell_type": "markdown",
      "metadata": {
        "application/vnd.databricks.v1+cell": {
          "title": "",
          "showTitle": false,
          "inputWidgets": {},
          "nuid": "01721a4e-c02e-4588-9a74-2fb9beac2d30"
        },
        "id": "jJRc9YVI2m8C"
      },
      "source": [
        "Se aplica el algoritmo k-medias al conjunto de datos:"
      ]
    },
    {
      "cell_type": "code",
      "metadata": {
        "application/vnd.databricks.v1+cell": {
          "title": "",
          "showTitle": false,
          "inputWidgets": {},
          "nuid": "d100f03f-cfaa-4f9d-a178-e954ac5441a9"
        },
        "id": "Dwt_WA3d2m8C"
      },
      "source": [
        "cluster_labels = clusterer.fit_predict(cluster_df)"
      ],
      "execution_count": null,
      "outputs": []
    },
    {
      "cell_type": "markdown",
      "metadata": {
        "application/vnd.databricks.v1+cell": {
          "title": "",
          "showTitle": false,
          "inputWidgets": {},
          "nuid": "96d50d3b-3801-40d8-8fac-d88887577f4c"
        },
        "id": "mFW5vuMv2m8D"
      },
      "source": [
        "Se asignan las etiquetas al conjunto de datos:"
      ]
    },
    {
      "cell_type": "code",
      "metadata": {
        "application/vnd.databricks.v1+cell": {
          "title": "",
          "showTitle": false,
          "inputWidgets": {},
          "nuid": "e2f6932d-b96e-4177-acb5-8703715b0a21"
        },
        "colab": {
          "base_uri": "https://localhost:8080/",
          "height": 444
        },
        "id": "wMc_x19i2m8D",
        "outputId": "19e48ac9-1c03-49a3-df61-ed676150492e"
      },
      "source": [
        "cluster_df[\"Cluster\"] = cluster_labels\n",
        "cluster_df.tail(10)"
      ],
      "execution_count": null,
      "outputs": [
        {
          "output_type": "execute_result",
          "data": {
            "text/plain": [
              "       MaritalStatus  Gender  YearlyIncome  TotalChildren  \\\n",
              "18474            0.0     1.0        0.0625            0.4   \n",
              "18475            1.0     1.0        0.0625            0.4   \n",
              "18476            0.0     0.0        0.0625            0.4   \n",
              "18477            0.0     1.0        0.0625            0.4   \n",
              "18478            1.0     1.0        0.1250            0.6   \n",
              "18479            0.0     1.0        0.1250            0.2   \n",
              "18480            1.0     0.0        0.1250            0.6   \n",
              "18481            1.0     1.0        0.1250            0.6   \n",
              "18482            0.0     1.0        0.1250            0.6   \n",
              "18483            0.0     1.0        0.1250            0.0   \n",
              "\n",
              "       NumberChildrenAtHome  SpanishEducation  HouseOwnerFlag  \\\n",
              "18474                   0.0              0.75             0.0   \n",
              "18475                   0.0              0.75             0.0   \n",
              "18476                   0.0              0.75             0.0   \n",
              "18477                   0.0              0.75             0.0   \n",
              "18478                   0.0              0.50             1.0   \n",
              "18479                   0.0              0.50             1.0   \n",
              "18480                   0.0              0.50             1.0   \n",
              "18481                   0.0              0.50             0.0   \n",
              "18482                   0.0              1.00             1.0   \n",
              "18483                   0.0              1.00             1.0   \n",
              "\n",
              "       NumberCarsOwned  CommuteDistance       Age  BikeBuyer  \\\n",
              "18474             0.25             0.00  0.300000        1.0   \n",
              "18475             0.25             0.75  0.300000        1.0   \n",
              "18476             0.25             0.00  0.300000        1.0   \n",
              "18477             0.25             0.25  0.300000        1.0   \n",
              "18478             0.00             0.00  0.300000        1.0   \n",
              "18479             0.00             0.00  0.314286        1.0   \n",
              "18480             0.00             0.00  0.285714        1.0   \n",
              "18481             0.00             0.00  0.300000        1.0   \n",
              "18482             0.00             0.00  0.314286        1.0   \n",
              "18483             0.00             0.00  0.300000        1.0   \n",
              "\n",
              "       SpanishOccupation_Administrativo  SpanishOccupation_Gestión  \\\n",
              "18474                               0.0                        0.0   \n",
              "18475                               0.0                        0.0   \n",
              "18476                               0.0                        0.0   \n",
              "18477                               0.0                        0.0   \n",
              "18478                               1.0                        0.0   \n",
              "18479                               1.0                        0.0   \n",
              "18480                               1.0                        0.0   \n",
              "18481                               1.0                        0.0   \n",
              "18482                               1.0                        0.0   \n",
              "18483                               1.0                        0.0   \n",
              "\n",
              "       SpanishOccupation_Obrero especializado  SpanishOccupation_Profesional  \\\n",
              "18474                                     0.0                            0.0   \n",
              "18475                                     0.0                            0.0   \n",
              "18476                                     0.0                            0.0   \n",
              "18477                                     0.0                            0.0   \n",
              "18478                                     0.0                            0.0   \n",
              "18479                                     0.0                            0.0   \n",
              "18480                                     0.0                            0.0   \n",
              "18481                                     0.0                            0.0   \n",
              "18482                                     0.0                            0.0   \n",
              "18483                                     0.0                            0.0   \n",
              "\n",
              "       Cluster  \n",
              "18474        3  \n",
              "18475        3  \n",
              "18476        3  \n",
              "18477        3  \n",
              "18478        4  \n",
              "18479        4  \n",
              "18480        4  \n",
              "18481        4  \n",
              "18482        4  \n",
              "18483        4  "
            ],
            "text/html": [
              "\n",
              "  <div id=\"df-02152f42-8d43-4e2e-9c8d-5101ed1b3d92\">\n",
              "    <div class=\"colab-df-container\">\n",
              "      <div>\n",
              "<style scoped>\n",
              "    .dataframe tbody tr th:only-of-type {\n",
              "        vertical-align: middle;\n",
              "    }\n",
              "\n",
              "    .dataframe tbody tr th {\n",
              "        vertical-align: top;\n",
              "    }\n",
              "\n",
              "    .dataframe thead th {\n",
              "        text-align: right;\n",
              "    }\n",
              "</style>\n",
              "<table border=\"1\" class=\"dataframe\">\n",
              "  <thead>\n",
              "    <tr style=\"text-align: right;\">\n",
              "      <th></th>\n",
              "      <th>MaritalStatus</th>\n",
              "      <th>Gender</th>\n",
              "      <th>YearlyIncome</th>\n",
              "      <th>TotalChildren</th>\n",
              "      <th>NumberChildrenAtHome</th>\n",
              "      <th>SpanishEducation</th>\n",
              "      <th>HouseOwnerFlag</th>\n",
              "      <th>NumberCarsOwned</th>\n",
              "      <th>CommuteDistance</th>\n",
              "      <th>Age</th>\n",
              "      <th>BikeBuyer</th>\n",
              "      <th>SpanishOccupation_Administrativo</th>\n",
              "      <th>SpanishOccupation_Gestión</th>\n",
              "      <th>SpanishOccupation_Obrero especializado</th>\n",
              "      <th>SpanishOccupation_Profesional</th>\n",
              "      <th>Cluster</th>\n",
              "    </tr>\n",
              "  </thead>\n",
              "  <tbody>\n",
              "    <tr>\n",
              "      <th>18474</th>\n",
              "      <td>0.0</td>\n",
              "      <td>1.0</td>\n",
              "      <td>0.0625</td>\n",
              "      <td>0.4</td>\n",
              "      <td>0.0</td>\n",
              "      <td>0.75</td>\n",
              "      <td>0.0</td>\n",
              "      <td>0.25</td>\n",
              "      <td>0.00</td>\n",
              "      <td>0.300000</td>\n",
              "      <td>1.0</td>\n",
              "      <td>0.0</td>\n",
              "      <td>0.0</td>\n",
              "      <td>0.0</td>\n",
              "      <td>0.0</td>\n",
              "      <td>3</td>\n",
              "    </tr>\n",
              "    <tr>\n",
              "      <th>18475</th>\n",
              "      <td>1.0</td>\n",
              "      <td>1.0</td>\n",
              "      <td>0.0625</td>\n",
              "      <td>0.4</td>\n",
              "      <td>0.0</td>\n",
              "      <td>0.75</td>\n",
              "      <td>0.0</td>\n",
              "      <td>0.25</td>\n",
              "      <td>0.75</td>\n",
              "      <td>0.300000</td>\n",
              "      <td>1.0</td>\n",
              "      <td>0.0</td>\n",
              "      <td>0.0</td>\n",
              "      <td>0.0</td>\n",
              "      <td>0.0</td>\n",
              "      <td>3</td>\n",
              "    </tr>\n",
              "    <tr>\n",
              "      <th>18476</th>\n",
              "      <td>0.0</td>\n",
              "      <td>0.0</td>\n",
              "      <td>0.0625</td>\n",
              "      <td>0.4</td>\n",
              "      <td>0.0</td>\n",
              "      <td>0.75</td>\n",
              "      <td>0.0</td>\n",
              "      <td>0.25</td>\n",
              "      <td>0.00</td>\n",
              "      <td>0.300000</td>\n",
              "      <td>1.0</td>\n",
              "      <td>0.0</td>\n",
              "      <td>0.0</td>\n",
              "      <td>0.0</td>\n",
              "      <td>0.0</td>\n",
              "      <td>3</td>\n",
              "    </tr>\n",
              "    <tr>\n",
              "      <th>18477</th>\n",
              "      <td>0.0</td>\n",
              "      <td>1.0</td>\n",
              "      <td>0.0625</td>\n",
              "      <td>0.4</td>\n",
              "      <td>0.0</td>\n",
              "      <td>0.75</td>\n",
              "      <td>0.0</td>\n",
              "      <td>0.25</td>\n",
              "      <td>0.25</td>\n",
              "      <td>0.300000</td>\n",
              "      <td>1.0</td>\n",
              "      <td>0.0</td>\n",
              "      <td>0.0</td>\n",
              "      <td>0.0</td>\n",
              "      <td>0.0</td>\n",
              "      <td>3</td>\n",
              "    </tr>\n",
              "    <tr>\n",
              "      <th>18478</th>\n",
              "      <td>1.0</td>\n",
              "      <td>1.0</td>\n",
              "      <td>0.1250</td>\n",
              "      <td>0.6</td>\n",
              "      <td>0.0</td>\n",
              "      <td>0.50</td>\n",
              "      <td>1.0</td>\n",
              "      <td>0.00</td>\n",
              "      <td>0.00</td>\n",
              "      <td>0.300000</td>\n",
              "      <td>1.0</td>\n",
              "      <td>1.0</td>\n",
              "      <td>0.0</td>\n",
              "      <td>0.0</td>\n",
              "      <td>0.0</td>\n",
              "      <td>4</td>\n",
              "    </tr>\n",
              "    <tr>\n",
              "      <th>18479</th>\n",
              "      <td>0.0</td>\n",
              "      <td>1.0</td>\n",
              "      <td>0.1250</td>\n",
              "      <td>0.2</td>\n",
              "      <td>0.0</td>\n",
              "      <td>0.50</td>\n",
              "      <td>1.0</td>\n",
              "      <td>0.00</td>\n",
              "      <td>0.00</td>\n",
              "      <td>0.314286</td>\n",
              "      <td>1.0</td>\n",
              "      <td>1.0</td>\n",
              "      <td>0.0</td>\n",
              "      <td>0.0</td>\n",
              "      <td>0.0</td>\n",
              "      <td>4</td>\n",
              "    </tr>\n",
              "    <tr>\n",
              "      <th>18480</th>\n",
              "      <td>1.0</td>\n",
              "      <td>0.0</td>\n",
              "      <td>0.1250</td>\n",
              "      <td>0.6</td>\n",
              "      <td>0.0</td>\n",
              "      <td>0.50</td>\n",
              "      <td>1.0</td>\n",
              "      <td>0.00</td>\n",
              "      <td>0.00</td>\n",
              "      <td>0.285714</td>\n",
              "      <td>1.0</td>\n",
              "      <td>1.0</td>\n",
              "      <td>0.0</td>\n",
              "      <td>0.0</td>\n",
              "      <td>0.0</td>\n",
              "      <td>4</td>\n",
              "    </tr>\n",
              "    <tr>\n",
              "      <th>18481</th>\n",
              "      <td>1.0</td>\n",
              "      <td>1.0</td>\n",
              "      <td>0.1250</td>\n",
              "      <td>0.6</td>\n",
              "      <td>0.0</td>\n",
              "      <td>0.50</td>\n",
              "      <td>0.0</td>\n",
              "      <td>0.00</td>\n",
              "      <td>0.00</td>\n",
              "      <td>0.300000</td>\n",
              "      <td>1.0</td>\n",
              "      <td>1.0</td>\n",
              "      <td>0.0</td>\n",
              "      <td>0.0</td>\n",
              "      <td>0.0</td>\n",
              "      <td>4</td>\n",
              "    </tr>\n",
              "    <tr>\n",
              "      <th>18482</th>\n",
              "      <td>0.0</td>\n",
              "      <td>1.0</td>\n",
              "      <td>0.1250</td>\n",
              "      <td>0.6</td>\n",
              "      <td>0.0</td>\n",
              "      <td>1.00</td>\n",
              "      <td>1.0</td>\n",
              "      <td>0.00</td>\n",
              "      <td>0.00</td>\n",
              "      <td>0.314286</td>\n",
              "      <td>1.0</td>\n",
              "      <td>1.0</td>\n",
              "      <td>0.0</td>\n",
              "      <td>0.0</td>\n",
              "      <td>0.0</td>\n",
              "      <td>4</td>\n",
              "    </tr>\n",
              "    <tr>\n",
              "      <th>18483</th>\n",
              "      <td>0.0</td>\n",
              "      <td>1.0</td>\n",
              "      <td>0.1250</td>\n",
              "      <td>0.0</td>\n",
              "      <td>0.0</td>\n",
              "      <td>1.00</td>\n",
              "      <td>1.0</td>\n",
              "      <td>0.00</td>\n",
              "      <td>0.00</td>\n",
              "      <td>0.300000</td>\n",
              "      <td>1.0</td>\n",
              "      <td>1.0</td>\n",
              "      <td>0.0</td>\n",
              "      <td>0.0</td>\n",
              "      <td>0.0</td>\n",
              "      <td>4</td>\n",
              "    </tr>\n",
              "  </tbody>\n",
              "</table>\n",
              "</div>\n",
              "      <button class=\"colab-df-convert\" onclick=\"convertToInteractive('df-02152f42-8d43-4e2e-9c8d-5101ed1b3d92')\"\n",
              "              title=\"Convert this dataframe to an interactive table.\"\n",
              "              style=\"display:none;\">\n",
              "        \n",
              "  <svg xmlns=\"http://www.w3.org/2000/svg\" height=\"24px\"viewBox=\"0 0 24 24\"\n",
              "       width=\"24px\">\n",
              "    <path d=\"M0 0h24v24H0V0z\" fill=\"none\"/>\n",
              "    <path d=\"M18.56 5.44l.94 2.06.94-2.06 2.06-.94-2.06-.94-.94-2.06-.94 2.06-2.06.94zm-11 1L8.5 8.5l.94-2.06 2.06-.94-2.06-.94L8.5 2.5l-.94 2.06-2.06.94zm10 10l.94 2.06.94-2.06 2.06-.94-2.06-.94-.94-2.06-.94 2.06-2.06.94z\"/><path d=\"M17.41 7.96l-1.37-1.37c-.4-.4-.92-.59-1.43-.59-.52 0-1.04.2-1.43.59L10.3 9.45l-7.72 7.72c-.78.78-.78 2.05 0 2.83L4 21.41c.39.39.9.59 1.41.59.51 0 1.02-.2 1.41-.59l7.78-7.78 2.81-2.81c.8-.78.8-2.07 0-2.86zM5.41 20L4 18.59l7.72-7.72 1.47 1.35L5.41 20z\"/>\n",
              "  </svg>\n",
              "      </button>\n",
              "      \n",
              "  <style>\n",
              "    .colab-df-container {\n",
              "      display:flex;\n",
              "      flex-wrap:wrap;\n",
              "      gap: 12px;\n",
              "    }\n",
              "\n",
              "    .colab-df-convert {\n",
              "      background-color: #E8F0FE;\n",
              "      border: none;\n",
              "      border-radius: 50%;\n",
              "      cursor: pointer;\n",
              "      display: none;\n",
              "      fill: #1967D2;\n",
              "      height: 32px;\n",
              "      padding: 0 0 0 0;\n",
              "      width: 32px;\n",
              "    }\n",
              "\n",
              "    .colab-df-convert:hover {\n",
              "      background-color: #E2EBFA;\n",
              "      box-shadow: 0px 1px 2px rgba(60, 64, 67, 0.3), 0px 1px 3px 1px rgba(60, 64, 67, 0.15);\n",
              "      fill: #174EA6;\n",
              "    }\n",
              "\n",
              "    [theme=dark] .colab-df-convert {\n",
              "      background-color: #3B4455;\n",
              "      fill: #D2E3FC;\n",
              "    }\n",
              "\n",
              "    [theme=dark] .colab-df-convert:hover {\n",
              "      background-color: #434B5C;\n",
              "      box-shadow: 0px 1px 3px 1px rgba(0, 0, 0, 0.15);\n",
              "      filter: drop-shadow(0px 1px 2px rgba(0, 0, 0, 0.3));\n",
              "      fill: #FFFFFF;\n",
              "    }\n",
              "  </style>\n",
              "\n",
              "      <script>\n",
              "        const buttonEl =\n",
              "          document.querySelector('#df-02152f42-8d43-4e2e-9c8d-5101ed1b3d92 button.colab-df-convert');\n",
              "        buttonEl.style.display =\n",
              "          google.colab.kernel.accessAllowed ? 'block' : 'none';\n",
              "\n",
              "        async function convertToInteractive(key) {\n",
              "          const element = document.querySelector('#df-02152f42-8d43-4e2e-9c8d-5101ed1b3d92');\n",
              "          const dataTable =\n",
              "            await google.colab.kernel.invokeFunction('convertToInteractive',\n",
              "                                                     [key], {});\n",
              "          if (!dataTable) return;\n",
              "\n",
              "          const docLinkHtml = 'Like what you see? Visit the ' +\n",
              "            '<a target=\"_blank\" href=https://colab.research.google.com/notebooks/data_table.ipynb>data table notebook</a>'\n",
              "            + ' to learn more about interactive tables.';\n",
              "          element.innerHTML = '';\n",
              "          dataTable['output_type'] = 'display_data';\n",
              "          await google.colab.output.renderOutput(dataTable, element);\n",
              "          const docLink = document.createElement('div');\n",
              "          docLink.innerHTML = docLinkHtml;\n",
              "          element.appendChild(docLink);\n",
              "        }\n",
              "      </script>\n",
              "    </div>\n",
              "  </div>\n",
              "  "
            ]
          },
          "metadata": {},
          "execution_count": 17
        }
      ]
    },
    {
      "cell_type": "markdown",
      "metadata": {
        "application/vnd.databricks.v1+cell": {
          "title": "",
          "showTitle": false,
          "inputWidgets": {},
          "nuid": "4e96dd99-239f-4a82-8e24-3455b02f5bf3"
        },
        "id": "OOESfXOK2m8D"
      },
      "source": [
        "Revise el valor de los centroides para evaluar que atributo tuvo más peso en cada cluster:"
      ]
    },
    {
      "cell_type": "code",
      "metadata": {
        "application/vnd.databricks.v1+cell": {
          "title": "",
          "showTitle": false,
          "inputWidgets": {},
          "nuid": "43eff50a-6747-4b41-bad1-5a4598d88d7e"
        },
        "id": "6sADGniy2m8D"
      },
      "source": [
        "centroides = cluster_df.groupby('Cluster').mean()"
      ],
      "execution_count": null,
      "outputs": []
    },
    {
      "cell_type": "code",
      "metadata": {
        "colab": {
          "base_uri": "https://localhost:8080/",
          "height": 350
        },
        "id": "Q7fBDk3CpNeV",
        "outputId": "e079c3b6-d5d2-45fc-d191-a9d553d82555"
      },
      "source": [
        "centroides"
      ],
      "execution_count": null,
      "outputs": [
        {
          "output_type": "execute_result",
          "data": {
            "text/plain": [
              "         MaritalStatus    Gender  YearlyIncome  TotalChildren  \\\n",
              "Cluster                                                         \n",
              "0             0.231754  0.519668      0.228332       0.314171   \n",
              "1             0.000000  0.511954      0.408232       0.516672   \n",
              "2             1.000000  0.469925      0.390142       0.352966   \n",
              "3             0.912376  0.497443      0.127259       0.214797   \n",
              "4             0.480776  0.502336      0.130031       0.292778   \n",
              "5             0.360292  0.520384      0.514315       0.524296   \n",
              "\n",
              "         NumberChildrenAtHome  SpanishEducation  HouseOwnerFlag  \\\n",
              "Cluster                                                           \n",
              "0                    0.125166          0.563211        0.914455   \n",
              "1                    0.340070          0.607109        0.796302   \n",
              "2                    0.209858          0.707707        0.504177   \n",
              "3                    0.111763          0.368565        0.239004   \n",
              "4                    0.119368          0.692149        0.710744   \n",
              "5                    0.316341          0.716274        0.748757   \n",
              "\n",
              "         NumberCarsOwned  CommuteDistance       Age  BikeBuyer  \\\n",
              "Cluster                                                          \n",
              "0               0.295853         0.497038  0.230139   0.474645   \n",
              "1               0.446047         0.526140  0.290746   0.434810   \n",
              "2               0.431078         0.546784  0.257650   0.586884   \n",
              "3               0.319724         0.232867  0.179899   0.456188   \n",
              "4               0.214517         0.210205  0.259401   0.590370   \n",
              "5               0.573252         0.453928  0.395710   0.457077   \n",
              "\n",
              "         SpanishOccupation_Administrativo  SpanishOccupation_Gestión  \\\n",
              "Cluster                                                                \n",
              "0                                0.000000                   0.000000   \n",
              "1                                0.000000                   0.000000   \n",
              "2                                0.000000                   0.000000   \n",
              "3                                0.050801                   0.019775   \n",
              "4                                0.998563                   0.000000   \n",
              "5                                0.000000                   1.000000   \n",
              "\n",
              "         SpanishOccupation_Obrero especializado  SpanishOccupation_Profesional  \n",
              "Cluster                                                                         \n",
              "0                                      0.870853                       0.000000  \n",
              "1                                      0.000000                       0.996493  \n",
              "2                                      0.000000                       1.000000  \n",
              "3                                      0.307535                       0.000000  \n",
              "4                                      0.000000                       0.000000  \n",
              "5                                      0.000000                       0.000000  "
            ],
            "text/html": [
              "\n",
              "  <div id=\"df-efdb49ed-62f3-40e4-930f-1903398bd215\">\n",
              "    <div class=\"colab-df-container\">\n",
              "      <div>\n",
              "<style scoped>\n",
              "    .dataframe tbody tr th:only-of-type {\n",
              "        vertical-align: middle;\n",
              "    }\n",
              "\n",
              "    .dataframe tbody tr th {\n",
              "        vertical-align: top;\n",
              "    }\n",
              "\n",
              "    .dataframe thead th {\n",
              "        text-align: right;\n",
              "    }\n",
              "</style>\n",
              "<table border=\"1\" class=\"dataframe\">\n",
              "  <thead>\n",
              "    <tr style=\"text-align: right;\">\n",
              "      <th></th>\n",
              "      <th>MaritalStatus</th>\n",
              "      <th>Gender</th>\n",
              "      <th>YearlyIncome</th>\n",
              "      <th>TotalChildren</th>\n",
              "      <th>NumberChildrenAtHome</th>\n",
              "      <th>SpanishEducation</th>\n",
              "      <th>HouseOwnerFlag</th>\n",
              "      <th>NumberCarsOwned</th>\n",
              "      <th>CommuteDistance</th>\n",
              "      <th>Age</th>\n",
              "      <th>BikeBuyer</th>\n",
              "      <th>SpanishOccupation_Administrativo</th>\n",
              "      <th>SpanishOccupation_Gestión</th>\n",
              "      <th>SpanishOccupation_Obrero especializado</th>\n",
              "      <th>SpanishOccupation_Profesional</th>\n",
              "    </tr>\n",
              "    <tr>\n",
              "      <th>Cluster</th>\n",
              "      <th></th>\n",
              "      <th></th>\n",
              "      <th></th>\n",
              "      <th></th>\n",
              "      <th></th>\n",
              "      <th></th>\n",
              "      <th></th>\n",
              "      <th></th>\n",
              "      <th></th>\n",
              "      <th></th>\n",
              "      <th></th>\n",
              "      <th></th>\n",
              "      <th></th>\n",
              "      <th></th>\n",
              "      <th></th>\n",
              "    </tr>\n",
              "  </thead>\n",
              "  <tbody>\n",
              "    <tr>\n",
              "      <th>0</th>\n",
              "      <td>0.231754</td>\n",
              "      <td>0.519668</td>\n",
              "      <td>0.228332</td>\n",
              "      <td>0.314171</td>\n",
              "      <td>0.125166</td>\n",
              "      <td>0.563211</td>\n",
              "      <td>0.914455</td>\n",
              "      <td>0.295853</td>\n",
              "      <td>0.497038</td>\n",
              "      <td>0.230139</td>\n",
              "      <td>0.474645</td>\n",
              "      <td>0.000000</td>\n",
              "      <td>0.000000</td>\n",
              "      <td>0.870853</td>\n",
              "      <td>0.000000</td>\n",
              "    </tr>\n",
              "    <tr>\n",
              "      <th>1</th>\n",
              "      <td>0.000000</td>\n",
              "      <td>0.511954</td>\n",
              "      <td>0.408232</td>\n",
              "      <td>0.516672</td>\n",
              "      <td>0.340070</td>\n",
              "      <td>0.607109</td>\n",
              "      <td>0.796302</td>\n",
              "      <td>0.446047</td>\n",
              "      <td>0.526140</td>\n",
              "      <td>0.290746</td>\n",
              "      <td>0.434810</td>\n",
              "      <td>0.000000</td>\n",
              "      <td>0.000000</td>\n",
              "      <td>0.000000</td>\n",
              "      <td>0.996493</td>\n",
              "    </tr>\n",
              "    <tr>\n",
              "      <th>2</th>\n",
              "      <td>1.000000</td>\n",
              "      <td>0.469925</td>\n",
              "      <td>0.390142</td>\n",
              "      <td>0.352966</td>\n",
              "      <td>0.209858</td>\n",
              "      <td>0.707707</td>\n",
              "      <td>0.504177</td>\n",
              "      <td>0.431078</td>\n",
              "      <td>0.546784</td>\n",
              "      <td>0.257650</td>\n",
              "      <td>0.586884</td>\n",
              "      <td>0.000000</td>\n",
              "      <td>0.000000</td>\n",
              "      <td>0.000000</td>\n",
              "      <td>1.000000</td>\n",
              "    </tr>\n",
              "    <tr>\n",
              "      <th>3</th>\n",
              "      <td>0.912376</td>\n",
              "      <td>0.497443</td>\n",
              "      <td>0.127259</td>\n",
              "      <td>0.214797</td>\n",
              "      <td>0.111763</td>\n",
              "      <td>0.368565</td>\n",
              "      <td>0.239004</td>\n",
              "      <td>0.319724</td>\n",
              "      <td>0.232867</td>\n",
              "      <td>0.179899</td>\n",
              "      <td>0.456188</td>\n",
              "      <td>0.050801</td>\n",
              "      <td>0.019775</td>\n",
              "      <td>0.307535</td>\n",
              "      <td>0.000000</td>\n",
              "    </tr>\n",
              "    <tr>\n",
              "      <th>4</th>\n",
              "      <td>0.480776</td>\n",
              "      <td>0.502336</td>\n",
              "      <td>0.130031</td>\n",
              "      <td>0.292778</td>\n",
              "      <td>0.119368</td>\n",
              "      <td>0.692149</td>\n",
              "      <td>0.710744</td>\n",
              "      <td>0.214517</td>\n",
              "      <td>0.210205</td>\n",
              "      <td>0.259401</td>\n",
              "      <td>0.590370</td>\n",
              "      <td>0.998563</td>\n",
              "      <td>0.000000</td>\n",
              "      <td>0.000000</td>\n",
              "      <td>0.000000</td>\n",
              "    </tr>\n",
              "    <tr>\n",
              "      <th>5</th>\n",
              "      <td>0.360292</td>\n",
              "      <td>0.520384</td>\n",
              "      <td>0.514315</td>\n",
              "      <td>0.524296</td>\n",
              "      <td>0.316341</td>\n",
              "      <td>0.716274</td>\n",
              "      <td>0.748757</td>\n",
              "      <td>0.573252</td>\n",
              "      <td>0.453928</td>\n",
              "      <td>0.395710</td>\n",
              "      <td>0.457077</td>\n",
              "      <td>0.000000</td>\n",
              "      <td>1.000000</td>\n",
              "      <td>0.000000</td>\n",
              "      <td>0.000000</td>\n",
              "    </tr>\n",
              "  </tbody>\n",
              "</table>\n",
              "</div>\n",
              "      <button class=\"colab-df-convert\" onclick=\"convertToInteractive('df-efdb49ed-62f3-40e4-930f-1903398bd215')\"\n",
              "              title=\"Convert this dataframe to an interactive table.\"\n",
              "              style=\"display:none;\">\n",
              "        \n",
              "  <svg xmlns=\"http://www.w3.org/2000/svg\" height=\"24px\"viewBox=\"0 0 24 24\"\n",
              "       width=\"24px\">\n",
              "    <path d=\"M0 0h24v24H0V0z\" fill=\"none\"/>\n",
              "    <path d=\"M18.56 5.44l.94 2.06.94-2.06 2.06-.94-2.06-.94-.94-2.06-.94 2.06-2.06.94zm-11 1L8.5 8.5l.94-2.06 2.06-.94-2.06-.94L8.5 2.5l-.94 2.06-2.06.94zm10 10l.94 2.06.94-2.06 2.06-.94-2.06-.94-.94-2.06-.94 2.06-2.06.94z\"/><path d=\"M17.41 7.96l-1.37-1.37c-.4-.4-.92-.59-1.43-.59-.52 0-1.04.2-1.43.59L10.3 9.45l-7.72 7.72c-.78.78-.78 2.05 0 2.83L4 21.41c.39.39.9.59 1.41.59.51 0 1.02-.2 1.41-.59l7.78-7.78 2.81-2.81c.8-.78.8-2.07 0-2.86zM5.41 20L4 18.59l7.72-7.72 1.47 1.35L5.41 20z\"/>\n",
              "  </svg>\n",
              "      </button>\n",
              "      \n",
              "  <style>\n",
              "    .colab-df-container {\n",
              "      display:flex;\n",
              "      flex-wrap:wrap;\n",
              "      gap: 12px;\n",
              "    }\n",
              "\n",
              "    .colab-df-convert {\n",
              "      background-color: #E8F0FE;\n",
              "      border: none;\n",
              "      border-radius: 50%;\n",
              "      cursor: pointer;\n",
              "      display: none;\n",
              "      fill: #1967D2;\n",
              "      height: 32px;\n",
              "      padding: 0 0 0 0;\n",
              "      width: 32px;\n",
              "    }\n",
              "\n",
              "    .colab-df-convert:hover {\n",
              "      background-color: #E2EBFA;\n",
              "      box-shadow: 0px 1px 2px rgba(60, 64, 67, 0.3), 0px 1px 3px 1px rgba(60, 64, 67, 0.15);\n",
              "      fill: #174EA6;\n",
              "    }\n",
              "\n",
              "    [theme=dark] .colab-df-convert {\n",
              "      background-color: #3B4455;\n",
              "      fill: #D2E3FC;\n",
              "    }\n",
              "\n",
              "    [theme=dark] .colab-df-convert:hover {\n",
              "      background-color: #434B5C;\n",
              "      box-shadow: 0px 1px 3px 1px rgba(0, 0, 0, 0.15);\n",
              "      filter: drop-shadow(0px 1px 2px rgba(0, 0, 0, 0.3));\n",
              "      fill: #FFFFFF;\n",
              "    }\n",
              "  </style>\n",
              "\n",
              "      <script>\n",
              "        const buttonEl =\n",
              "          document.querySelector('#df-efdb49ed-62f3-40e4-930f-1903398bd215 button.colab-df-convert');\n",
              "        buttonEl.style.display =\n",
              "          google.colab.kernel.accessAllowed ? 'block' : 'none';\n",
              "\n",
              "        async function convertToInteractive(key) {\n",
              "          const element = document.querySelector('#df-efdb49ed-62f3-40e4-930f-1903398bd215');\n",
              "          const dataTable =\n",
              "            await google.colab.kernel.invokeFunction('convertToInteractive',\n",
              "                                                     [key], {});\n",
              "          if (!dataTable) return;\n",
              "\n",
              "          const docLinkHtml = 'Like what you see? Visit the ' +\n",
              "            '<a target=\"_blank\" href=https://colab.research.google.com/notebooks/data_table.ipynb>data table notebook</a>'\n",
              "            + ' to learn more about interactive tables.';\n",
              "          element.innerHTML = '';\n",
              "          dataTable['output_type'] = 'display_data';\n",
              "          await google.colab.output.renderOutput(dataTable, element);\n",
              "          const docLink = document.createElement('div');\n",
              "          docLink.innerHTML = docLinkHtml;\n",
              "          element.appendChild(docLink);\n",
              "        }\n",
              "      </script>\n",
              "    </div>\n",
              "  </div>\n",
              "  "
            ]
          },
          "metadata": {},
          "execution_count": 20
        }
      ]
    },
    {
      "cell_type": "code",
      "metadata": {
        "colab": {
          "base_uri": "https://localhost:8080/",
          "height": 520
        },
        "id": "hua_cZc6kacQ",
        "outputId": "5e445cd5-51f0-4815-aef2-4dcecd7a8faf"
      },
      "source": [
        "# Calcularemos la traspuesta para graficar\n",
        "centroids_transposed = centroides.T \n",
        "centroids_transposed"
      ],
      "execution_count": null,
      "outputs": [
        {
          "output_type": "execute_result",
          "data": {
            "text/plain": [
              "Cluster                                        0         1         2  \\\n",
              "MaritalStatus                           0.231754  0.000000  1.000000   \n",
              "Gender                                  0.519668  0.511954  0.469925   \n",
              "YearlyIncome                            0.228332  0.408232  0.390142   \n",
              "TotalChildren                           0.314171  0.516672  0.352966   \n",
              "NumberChildrenAtHome                    0.125166  0.340070  0.209858   \n",
              "SpanishEducation                        0.563211  0.607109  0.707707   \n",
              "HouseOwnerFlag                          0.914455  0.796302  0.504177   \n",
              "NumberCarsOwned                         0.295853  0.446047  0.431078   \n",
              "CommuteDistance                         0.497038  0.526140  0.546784   \n",
              "Age                                     0.230139  0.290746  0.257650   \n",
              "BikeBuyer                               0.474645  0.434810  0.586884   \n",
              "SpanishOccupation_Administrativo        0.000000  0.000000  0.000000   \n",
              "SpanishOccupation_Gestión               0.000000  0.000000  0.000000   \n",
              "SpanishOccupation_Obrero especializado  0.870853  0.000000  0.000000   \n",
              "SpanishOccupation_Profesional           0.000000  0.996493  1.000000   \n",
              "\n",
              "Cluster                                        3         4         5  \n",
              "MaritalStatus                           0.912376  0.480776  0.360292  \n",
              "Gender                                  0.497443  0.502336  0.520384  \n",
              "YearlyIncome                            0.127259  0.130031  0.514315  \n",
              "TotalChildren                           0.214797  0.292778  0.524296  \n",
              "NumberChildrenAtHome                    0.111763  0.119368  0.316341  \n",
              "SpanishEducation                        0.368565  0.692149  0.716274  \n",
              "HouseOwnerFlag                          0.239004  0.710744  0.748757  \n",
              "NumberCarsOwned                         0.319724  0.214517  0.573252  \n",
              "CommuteDistance                         0.232867  0.210205  0.453928  \n",
              "Age                                     0.179899  0.259401  0.395710  \n",
              "BikeBuyer                               0.456188  0.590370  0.457077  \n",
              "SpanishOccupation_Administrativo        0.050801  0.998563  0.000000  \n",
              "SpanishOccupation_Gestión               0.019775  0.000000  1.000000  \n",
              "SpanishOccupation_Obrero especializado  0.307535  0.000000  0.000000  \n",
              "SpanishOccupation_Profesional           0.000000  0.000000  0.000000  "
            ],
            "text/html": [
              "\n",
              "  <div id=\"df-6a70d5f7-d86f-43dd-ad90-71d802d22385\">\n",
              "    <div class=\"colab-df-container\">\n",
              "      <div>\n",
              "<style scoped>\n",
              "    .dataframe tbody tr th:only-of-type {\n",
              "        vertical-align: middle;\n",
              "    }\n",
              "\n",
              "    .dataframe tbody tr th {\n",
              "        vertical-align: top;\n",
              "    }\n",
              "\n",
              "    .dataframe thead th {\n",
              "        text-align: right;\n",
              "    }\n",
              "</style>\n",
              "<table border=\"1\" class=\"dataframe\">\n",
              "  <thead>\n",
              "    <tr style=\"text-align: right;\">\n",
              "      <th>Cluster</th>\n",
              "      <th>0</th>\n",
              "      <th>1</th>\n",
              "      <th>2</th>\n",
              "      <th>3</th>\n",
              "      <th>4</th>\n",
              "      <th>5</th>\n",
              "    </tr>\n",
              "  </thead>\n",
              "  <tbody>\n",
              "    <tr>\n",
              "      <th>MaritalStatus</th>\n",
              "      <td>0.231754</td>\n",
              "      <td>0.000000</td>\n",
              "      <td>1.000000</td>\n",
              "      <td>0.912376</td>\n",
              "      <td>0.480776</td>\n",
              "      <td>0.360292</td>\n",
              "    </tr>\n",
              "    <tr>\n",
              "      <th>Gender</th>\n",
              "      <td>0.519668</td>\n",
              "      <td>0.511954</td>\n",
              "      <td>0.469925</td>\n",
              "      <td>0.497443</td>\n",
              "      <td>0.502336</td>\n",
              "      <td>0.520384</td>\n",
              "    </tr>\n",
              "    <tr>\n",
              "      <th>YearlyIncome</th>\n",
              "      <td>0.228332</td>\n",
              "      <td>0.408232</td>\n",
              "      <td>0.390142</td>\n",
              "      <td>0.127259</td>\n",
              "      <td>0.130031</td>\n",
              "      <td>0.514315</td>\n",
              "    </tr>\n",
              "    <tr>\n",
              "      <th>TotalChildren</th>\n",
              "      <td>0.314171</td>\n",
              "      <td>0.516672</td>\n",
              "      <td>0.352966</td>\n",
              "      <td>0.214797</td>\n",
              "      <td>0.292778</td>\n",
              "      <td>0.524296</td>\n",
              "    </tr>\n",
              "    <tr>\n",
              "      <th>NumberChildrenAtHome</th>\n",
              "      <td>0.125166</td>\n",
              "      <td>0.340070</td>\n",
              "      <td>0.209858</td>\n",
              "      <td>0.111763</td>\n",
              "      <td>0.119368</td>\n",
              "      <td>0.316341</td>\n",
              "    </tr>\n",
              "    <tr>\n",
              "      <th>SpanishEducation</th>\n",
              "      <td>0.563211</td>\n",
              "      <td>0.607109</td>\n",
              "      <td>0.707707</td>\n",
              "      <td>0.368565</td>\n",
              "      <td>0.692149</td>\n",
              "      <td>0.716274</td>\n",
              "    </tr>\n",
              "    <tr>\n",
              "      <th>HouseOwnerFlag</th>\n",
              "      <td>0.914455</td>\n",
              "      <td>0.796302</td>\n",
              "      <td>0.504177</td>\n",
              "      <td>0.239004</td>\n",
              "      <td>0.710744</td>\n",
              "      <td>0.748757</td>\n",
              "    </tr>\n",
              "    <tr>\n",
              "      <th>NumberCarsOwned</th>\n",
              "      <td>0.295853</td>\n",
              "      <td>0.446047</td>\n",
              "      <td>0.431078</td>\n",
              "      <td>0.319724</td>\n",
              "      <td>0.214517</td>\n",
              "      <td>0.573252</td>\n",
              "    </tr>\n",
              "    <tr>\n",
              "      <th>CommuteDistance</th>\n",
              "      <td>0.497038</td>\n",
              "      <td>0.526140</td>\n",
              "      <td>0.546784</td>\n",
              "      <td>0.232867</td>\n",
              "      <td>0.210205</td>\n",
              "      <td>0.453928</td>\n",
              "    </tr>\n",
              "    <tr>\n",
              "      <th>Age</th>\n",
              "      <td>0.230139</td>\n",
              "      <td>0.290746</td>\n",
              "      <td>0.257650</td>\n",
              "      <td>0.179899</td>\n",
              "      <td>0.259401</td>\n",
              "      <td>0.395710</td>\n",
              "    </tr>\n",
              "    <tr>\n",
              "      <th>BikeBuyer</th>\n",
              "      <td>0.474645</td>\n",
              "      <td>0.434810</td>\n",
              "      <td>0.586884</td>\n",
              "      <td>0.456188</td>\n",
              "      <td>0.590370</td>\n",
              "      <td>0.457077</td>\n",
              "    </tr>\n",
              "    <tr>\n",
              "      <th>SpanishOccupation_Administrativo</th>\n",
              "      <td>0.000000</td>\n",
              "      <td>0.000000</td>\n",
              "      <td>0.000000</td>\n",
              "      <td>0.050801</td>\n",
              "      <td>0.998563</td>\n",
              "      <td>0.000000</td>\n",
              "    </tr>\n",
              "    <tr>\n",
              "      <th>SpanishOccupation_Gestión</th>\n",
              "      <td>0.000000</td>\n",
              "      <td>0.000000</td>\n",
              "      <td>0.000000</td>\n",
              "      <td>0.019775</td>\n",
              "      <td>0.000000</td>\n",
              "      <td>1.000000</td>\n",
              "    </tr>\n",
              "    <tr>\n",
              "      <th>SpanishOccupation_Obrero especializado</th>\n",
              "      <td>0.870853</td>\n",
              "      <td>0.000000</td>\n",
              "      <td>0.000000</td>\n",
              "      <td>0.307535</td>\n",
              "      <td>0.000000</td>\n",
              "      <td>0.000000</td>\n",
              "    </tr>\n",
              "    <tr>\n",
              "      <th>SpanishOccupation_Profesional</th>\n",
              "      <td>0.000000</td>\n",
              "      <td>0.996493</td>\n",
              "      <td>1.000000</td>\n",
              "      <td>0.000000</td>\n",
              "      <td>0.000000</td>\n",
              "      <td>0.000000</td>\n",
              "    </tr>\n",
              "  </tbody>\n",
              "</table>\n",
              "</div>\n",
              "      <button class=\"colab-df-convert\" onclick=\"convertToInteractive('df-6a70d5f7-d86f-43dd-ad90-71d802d22385')\"\n",
              "              title=\"Convert this dataframe to an interactive table.\"\n",
              "              style=\"display:none;\">\n",
              "        \n",
              "  <svg xmlns=\"http://www.w3.org/2000/svg\" height=\"24px\"viewBox=\"0 0 24 24\"\n",
              "       width=\"24px\">\n",
              "    <path d=\"M0 0h24v24H0V0z\" fill=\"none\"/>\n",
              "    <path d=\"M18.56 5.44l.94 2.06.94-2.06 2.06-.94-2.06-.94-.94-2.06-.94 2.06-2.06.94zm-11 1L8.5 8.5l.94-2.06 2.06-.94-2.06-.94L8.5 2.5l-.94 2.06-2.06.94zm10 10l.94 2.06.94-2.06 2.06-.94-2.06-.94-.94-2.06-.94 2.06-2.06.94z\"/><path d=\"M17.41 7.96l-1.37-1.37c-.4-.4-.92-.59-1.43-.59-.52 0-1.04.2-1.43.59L10.3 9.45l-7.72 7.72c-.78.78-.78 2.05 0 2.83L4 21.41c.39.39.9.59 1.41.59.51 0 1.02-.2 1.41-.59l7.78-7.78 2.81-2.81c.8-.78.8-2.07 0-2.86zM5.41 20L4 18.59l7.72-7.72 1.47 1.35L5.41 20z\"/>\n",
              "  </svg>\n",
              "      </button>\n",
              "      \n",
              "  <style>\n",
              "    .colab-df-container {\n",
              "      display:flex;\n",
              "      flex-wrap:wrap;\n",
              "      gap: 12px;\n",
              "    }\n",
              "\n",
              "    .colab-df-convert {\n",
              "      background-color: #E8F0FE;\n",
              "      border: none;\n",
              "      border-radius: 50%;\n",
              "      cursor: pointer;\n",
              "      display: none;\n",
              "      fill: #1967D2;\n",
              "      height: 32px;\n",
              "      padding: 0 0 0 0;\n",
              "      width: 32px;\n",
              "    }\n",
              "\n",
              "    .colab-df-convert:hover {\n",
              "      background-color: #E2EBFA;\n",
              "      box-shadow: 0px 1px 2px rgba(60, 64, 67, 0.3), 0px 1px 3px 1px rgba(60, 64, 67, 0.15);\n",
              "      fill: #174EA6;\n",
              "    }\n",
              "\n",
              "    [theme=dark] .colab-df-convert {\n",
              "      background-color: #3B4455;\n",
              "      fill: #D2E3FC;\n",
              "    }\n",
              "\n",
              "    [theme=dark] .colab-df-convert:hover {\n",
              "      background-color: #434B5C;\n",
              "      box-shadow: 0px 1px 3px 1px rgba(0, 0, 0, 0.15);\n",
              "      filter: drop-shadow(0px 1px 2px rgba(0, 0, 0, 0.3));\n",
              "      fill: #FFFFFF;\n",
              "    }\n",
              "  </style>\n",
              "\n",
              "      <script>\n",
              "        const buttonEl =\n",
              "          document.querySelector('#df-6a70d5f7-d86f-43dd-ad90-71d802d22385 button.colab-df-convert');\n",
              "        buttonEl.style.display =\n",
              "          google.colab.kernel.accessAllowed ? 'block' : 'none';\n",
              "\n",
              "        async function convertToInteractive(key) {\n",
              "          const element = document.querySelector('#df-6a70d5f7-d86f-43dd-ad90-71d802d22385');\n",
              "          const dataTable =\n",
              "            await google.colab.kernel.invokeFunction('convertToInteractive',\n",
              "                                                     [key], {});\n",
              "          if (!dataTable) return;\n",
              "\n",
              "          const docLinkHtml = 'Like what you see? Visit the ' +\n",
              "            '<a target=\"_blank\" href=https://colab.research.google.com/notebooks/data_table.ipynb>data table notebook</a>'\n",
              "            + ' to learn more about interactive tables.';\n",
              "          element.innerHTML = '';\n",
              "          dataTable['output_type'] = 'display_data';\n",
              "          await google.colab.output.renderOutput(dataTable, element);\n",
              "          const docLink = document.createElement('div');\n",
              "          docLink.innerHTML = docLinkHtml;\n",
              "          element.appendChild(docLink);\n",
              "        }\n",
              "      </script>\n",
              "    </div>\n",
              "  </div>\n",
              "  "
            ]
          },
          "metadata": {},
          "execution_count": 19
        }
      ]
    },
    {
      "cell_type": "code",
      "metadata": {
        "colab": {
          "base_uri": "https://localhost:8080/",
          "height": 642
        },
        "id": "2-3lx0iVkjp-",
        "outputId": "b94cf311-92b0-43f0-9238-b10cf528d229"
      },
      "source": [
        "import matplotlib.pyplot as plt # Para graficar\n",
        "plt.figure(figsize=(20, 8))\n",
        "plt.plot(centroids_transposed, label='Line '+ centroids_transposed.index)\n",
        "plt.xticks(rotation=45, ha='right')\n",
        "plt.title(\"Centroides\")\n",
        "plt.legend(centroids_transposed.columns)\n",
        "plt.show()"
      ],
      "execution_count": null,
      "outputs": [
        {
          "output_type": "display_data",
          "data": {
            "text/plain": [
              "<Figure size 1440x576 with 1 Axes>"
            ],
            "image/png": "[encoded data removed]"
          },
          "metadata": {
            "needs_background": "light"
          }
        }
      ]
    },
    {
      "cell_type": "markdown",
      "metadata": {
        "application/vnd.databricks.v1+cell": {
          "title": "",
          "showTitle": false,
          "inputWidgets": {},
          "nuid": "0c42d5d4-05cb-495b-bd04-7a7bd3e6d2af"
        },
        "id": "QXNOcrws2m8D"
      },
      "source": [
        "# Ahora tú\n",
        "\n",
        "Describe el cluster 1"
      ]
    },
    {
      "cell_type": "markdown",
      "metadata": {
        "application/vnd.databricks.v1+cell": {
          "title": "",
          "showTitle": false,
          "inputWidgets": {},
          "nuid": "34c8461e-a600-4b60-b1ba-603eacb93df1"
        },
        "id": "jsIaSVqS2m8E"
      },
      "source": [
        "Para conocer el número de elementos en cada cluster:"
      ]
    },
    {
      "cell_type": "code",
      "metadata": {
        "colab": {
          "base_uri": "https://localhost:8080/"
        },
        "id": "bbUdkb7fpp3B",
        "outputId": "c8e7675d-e9e6-44d6-91b6-db2ca8ae859c"
      },
      "source": [
        "cluster_df[\"Cluster\"].value_counts()\n"
      ],
      "execution_count": null,
      "outputs": [
        {
          "output_type": "execute_result",
          "data": {
            "text/plain": [
              "0    4220\n",
              "1    3137\n",
              "5    3017\n",
              "3    2933\n",
              "4    2783\n",
              "2    2394\n",
              "Name: Cluster, dtype: int64"
            ]
          },
          "metadata": {},
          "execution_count": 21
        }
      ]
    },
    {
      "cell_type": "markdown",
      "metadata": {
        "application/vnd.databricks.v1+cell": {
          "title": "",
          "showTitle": false,
          "inputWidgets": {},
          "nuid": "faa85d10-9d2e-4544-89ed-6d843ce24e7a"
        },
        "id": "MvQ4_JZM2m8E"
      },
      "source": [
        "Para visualizar los datos y ver los distintos clusters creados se utiliza la librería Seaborn. Se visualizan los atributos <b>YearlyIncome</b> y <b>Age</b>:"
      ]
    },
    {
      "cell_type": "code",
      "metadata": {
        "application/vnd.databricks.v1+cell": {
          "title": "",
          "showTitle": false,
          "inputWidgets": {},
          "nuid": "cae34065-27dd-455b-abfc-6bfb9bcfa6ce"
        },
        "colab": {
          "base_uri": "https://localhost:8080/",
          "height": 386
        },
        "id": "7e4A4vcJ2m8E",
        "outputId": "487dec02-1635-44e6-e0e8-294bcf692ae1"
      },
      "source": [
        "import seaborn as sns\n",
        "sns.lmplot(x='YearlyIncome',y='Age',data = cluster_df,hue = 'Cluster', fit_reg = False, height = 5, aspect = 2)"
      ],
      "execution_count": null,
      "outputs": [
        {
          "output_type": "execute_result",
          "data": {
            "text/plain": [
              "<seaborn.axisgrid.FacetGrid at 0x7f0041bab0d0>"
            ]
          },
          "metadata": {},
          "execution_count": 22
        },
        {
          "output_type": "display_data",
          "data": {
            "text/plain": [
              "<Figure size 763.5x360 with 1 Axes>"
            ],
            "image/png": "[encoded data removed]"
          },
          "metadata": {
            "needs_background": "light"
          }
        }
      ]
    },
    {
      "cell_type": "markdown",
      "metadata": {
        "application/vnd.databricks.v1+cell": {
          "title": "",
          "showTitle": false,
          "inputWidgets": {},
          "nuid": "a92f9a2b-dfb7-4214-9e90-3bff94f2d86b"
        },
        "id": "cqOcLiYL2m8E"
      },
      "source": [
        "##Determinar el valor de K"
      ]
    },
    {
      "cell_type": "markdown",
      "metadata": {
        "application/vnd.databricks.v1+cell": {
          "title": "",
          "showTitle": false,
          "inputWidgets": {},
          "nuid": "9fa312cc-cf3a-40cc-a6e5-690f0d4605cf"
        },
        "id": "zIJBy1ML2m8F"
      },
      "source": [
        "Para evaluar la calidad de los clusters, se pueden aplicar diferentes estrategias. A continuación se generan diferentes ejecuciones del algoritmo, variando la K y se calcula el error cuadrático para cada K y se grafica con el objetivo de encontrar la mejor K:"
      ]
    },
    {
      "cell_type": "code",
      "metadata": {
        "application/vnd.databricks.v1+cell": {
          "title": "",
          "showTitle": false,
          "inputWidgets": {},
          "nuid": "cb2ce8d0-edde-431b-b372-e06cdda21f41"
        },
        "id": "ThTky3ph2m8F"
      },
      "source": [
        "kmeans_k = {\"init\": \"k-means++\", \"n_init\": 12, \"max_iter\": 500}\n",
        "# Lista que obtiene los SSE para cada valor de k\n",
        "sse = []\n",
        "for k in range(2, 15):\n",
        "  clusterer = KMeans(n_clusters=k, **kmeans_k)\n",
        "  cluster_labels = clusterer.fit_predict(cluster_df)\n",
        "  sse.append(clusterer.inertia_)"
      ],
      "execution_count": null,
      "outputs": []
    },
    {
      "cell_type": "markdown",
      "metadata": {
        "application/vnd.databricks.v1+cell": {
          "title": "",
          "showTitle": false,
          "inputWidgets": {},
          "nuid": "94e7c9f6-37bf-4eb7-8072-91e557e19788"
        },
        "id": "sJqOYqTc2m8F"
      },
      "source": [
        "Se visualizan las diferentes K, con los errores obtenidos:"
      ]
    },
    {
      "cell_type": "code",
      "metadata": {
        "application/vnd.databricks.v1+cell": {
          "title": "",
          "showTitle": false,
          "inputWidgets": {},
          "nuid": "cf368473-c4f4-406d-a541-fdc7e692a96d"
        },
        "colab": {
          "base_uri": "https://localhost:8080/",
          "height": 304
        },
        "id": "BEppC8AY2m8F",
        "outputId": "2c6c8d9c-360a-4d83-f625-31f44293c04b"
      },
      "source": [
        "plt.style.use(\"fivethirtyeight\")\n",
        "plt.plot(range(2, 15), sse)\n",
        "plt.xticks(range(2, 15))\n",
        "plt.xlabel(\"Number of Clusters\")\n",
        "plt.ylabel(\"SSE\")\n",
        "plt.show()"
      ],
      "execution_count": null,
      "outputs": [
        {
          "output_type": "display_data",
          "data": {
            "text/plain": [
              "<Figure size 432x288 with 1 Axes>"
            ],
            "image/png": "[encoded data removed]"
          },
          "metadata": {}
        }
      ]
    },
    {
      "cell_type": "markdown",
      "metadata": {
        "application/vnd.databricks.v1+cell": {
          "title": "",
          "showTitle": false,
          "inputWidgets": {},
          "nuid": "8af89b9f-a980-461a-86ff-7430318e2522"
        },
        "id": "NQue2hNk2m8F"
      },
      "source": [
        "##Calcular el coeficiente de Silhoutte"
      ]
    },
    {
      "cell_type": "markdown",
      "metadata": {
        "application/vnd.databricks.v1+cell": {
          "title": "",
          "showTitle": false,
          "inputWidgets": {},
          "nuid": "911cc6b2-b52e-43c1-9eae-6901a1399c3b"
        },
        "id": "XluD74jf2m8F"
      },
      "source": [
        "Para un cálculo rápido del coeficiente total se puede utilizar el siguiente código:"
      ]
    },
    {
      "cell_type": "code",
      "metadata": {
        "id": "ipH282hwhsAY"
      },
      "source": [
        "#k_means = KMeans(init = \"k-means++\", n_clusters = 4, n_init = 12, max_iter=500, random_state=1)\n",
        "clusterer = KMeans(n_clusters = 4, init='k-means++', n_init=10, max_iter=500, random_state=42)\n",
        "cluster_labels = clusterer.fit_predict(cluster_df)"
      ],
      "execution_count": null,
      "outputs": []
    },
    {
      "cell_type": "code",
      "metadata": {
        "application/vnd.databricks.v1+cell": {
          "title": "",
          "showTitle": false,
          "inputWidgets": {},
          "nuid": "96f8bde0-eaa7-4d46-8207-a61a876ce986"
        },
        "colab": {
          "base_uri": "https://localhost:8080/"
        },
        "id": "WoYjgnsY2m8F",
        "outputId": "5b3a6bc1-5e38-4f73-f8eb-9f9a5aa9a960"
      },
      "source": [
        "from sklearn.metrics import silhouette_score\n",
        "df1 = cluster_df.copy() # copia del dataframe para eliminar la columna Cluster\n",
        "df1.drop(['Cluster'], axis = 'columns', inplace = True) # Se elimina la columna Cluster\n",
        "silhouette_avg = silhouette_score(df1, cluster_labels)\n",
        "print(f'Silhouette Score: {silhouette_avg}')"
      ],
      "execution_count": null,
      "outputs": [
        {
          "output_type": "stream",
          "name": "stdout",
          "text": [
            "Silhouette Score: 0.173343913831578\n"
          ]
        }
      ]
    },
    {
      "cell_type": "code",
      "metadata": {
        "colab": {
          "base_uri": "https://localhost:8080/"
        },
        "id": "fiBoCDMjy7jU",
        "outputId": "4adb63de-698b-4637-a138-81a29f9a745a"
      },
      "source": [
        "kmeans_k = {\"init\": \"k-means++\", \"n_init\": 12, \"max_iter\": 500}\n",
        "# Lista que obtiene los SSE para cada valor de k\n",
        "sil = []\n",
        "for k in range(2, 15):\n",
        "  clusterer = KMeans(n_clusters = k, **kmeans_k)\n",
        "  cluster_labels = clusterer.fit_predict(df1)\n",
        "  silhouette_avg = silhouette_score(df1, cluster_labels)\n",
        "  print(\"Para n_clusters =\",k,\"El promedio de silhouette_score es :\",silhouette_avg)\n"
      ],
      "execution_count": null,
      "outputs": [
        {
          "output_type": "stream",
          "name": "stdout",
          "text": [
            "Para n_clusters = 2 El promedio de silhouette_score es : 0.12655863096992934\n",
            "Para n_clusters = 3 El promedio de silhouette_score es : 0.17147856974737127\n",
            "Para n_clusters = 4 El promedio de silhouette_score es : 0.1918355001767809\n",
            "Para n_clusters = 5 El promedio de silhouette_score es : 0.17916011290855932\n",
            "Para n_clusters = 6 El promedio de silhouette_score es : 0.17817374645852452\n",
            "Para n_clusters = 7 El promedio de silhouette_score es : 0.16661929083846636\n",
            "Para n_clusters = 8 El promedio de silhouette_score es : 0.1656829238897244\n",
            "Para n_clusters = 9 El promedio de silhouette_score es : 0.1657371651892178\n",
            "Para n_clusters = 10 El promedio de silhouette_score es : 0.1677733976271634\n",
            "Para n_clusters = 11 El promedio de silhouette_score es : 0.17609952182584496\n",
            "Para n_clusters = 12 El promedio de silhouette_score es : 0.1627010995180713\n",
            "Para n_clusters = 13 El promedio de silhouette_score es : 0.17637627961944316\n",
            "Para n_clusters = 14 El promedio de silhouette_score es : 0.17290408478369693\n"
          ]
        }
      ]
    },
    {
      "cell_type": "markdown",
      "metadata": {
        "id": "cEzI_R0JxZfN"
      },
      "source": [
        "# Análisis de varios k con silueta"
      ]
    },
    {
      "cell_type": "markdown",
      "metadata": {
        "application/vnd.databricks.v1+cell": {
          "title": "",
          "showTitle": false,
          "inputWidgets": {},
          "nuid": "7a86d8e1-c759-4ab0-a4cb-3f0d7574b814"
        },
        "id": "8Gaqe21b2m8G"
      },
      "source": [
        "Para calcular varias alternativas y visualizar los resultados, se puede utilizar la librería <b>Yellowbrick</b>:"
      ]
    },
    {
      "cell_type": "code",
      "metadata": {
        "application/vnd.databricks.v1+cell": {
          "title": "",
          "showTitle": false,
          "inputWidgets": {},
          "nuid": "40165467-ff86-4906-8863-e04c7a03b78d"
        },
        "colab": {
          "base_uri": "https://localhost:8080/",
          "height": 456
        },
        "id": "7JGrbwew2m8G",
        "outputId": "385e1697-bdf9-4b21-8990-220154e929e7"
      },
      "source": [
        "from yellowbrick.cluster import SilhouetteVisualizer\n",
        "kmeans_k = {\"init\": \"k-means++\", \"n_init\": 12, \"max_iter\": 500}\n",
        "clusterer = KMeans(n_clusters = 6, **kmeans_k)\n",
        "cluster_labels = clusterer.fit_predict(df1)\n",
        "visualizer = SilhouetteVisualizer(clusterer, colors='yellowbrick')\n",
        "df1 = cluster_df.copy() # copia del dataframe para eliminar la columna Cluster\n",
        "df1.drop(['Cluster'], axis = 'columns', inplace = True) # Se elimina la columna Cluster\n",
        "visualizer.fit(df1) # Se visualiza el resultado para una ejecución"
      ],
      "execution_count": null,
      "outputs": [
        {
          "output_type": "stream",
          "name": "stderr",
          "text": [
            "/usr/local/lib/python3.7/dist-packages/sklearn/base.py:451: UserWarning: X does not have valid feature names, but KMeans was fitted with feature names\n",
            "  \"X does not have valid feature names, but\"\n"
          ]
        },
        {
          "output_type": "execute_result",
          "data": {
            "text/plain": [
              "SilhouetteVisualizer(ax=<matplotlib.axes._subplots.AxesSubplot object at 0x7f004016df90>,\n",
              "                     colors='yellowbrick',\n",
              "                     estimator=KMeans(max_iter=500, n_clusters=6, n_init=12))"
            ]
          },
          "metadata": {},
          "execution_count": 29
        },
        {
          "output_type": "display_data",
          "data": {
            "text/plain": [
              "<Figure size 576x396 with 1 Axes>"
            ],
            "image/png": "[encoded data removed]"
          },
          "metadata": {}
        }
      ]
    },
    {
      "cell_type": "markdown",
      "metadata": {
        "application/vnd.databricks.v1+cell": {
          "title": "",
          "showTitle": false,
          "inputWidgets": {},
          "nuid": "3c2fa46b-e6e9-46a4-9440-bc66d4c6e59a"
        },
        "id": "cEKtbiMo2m8G"
      },
      "source": [
        "Si desea evaluar el resultado con varias alternativas, ejecute el siguiente código:"
      ]
    },
    {
      "cell_type": "code",
      "metadata": {
        "colab": {
          "base_uri": "https://localhost:8080/",
          "height": 514
        },
        "id": "8KbEIgP4Snyw",
        "outputId": "a23c9bb7-3b17-423e-ce3b-2721de2c4bed"
      },
      "source": [
        "fig, ax = plt.subplots(2, 2, figsize=(15,8)) # se van a visualizar varias gráficas\n",
        "row=0\n",
        "for i in [4, 5, 6, 7]: # se va a probar con varios valores de K\n",
        "    km = KMeans(n_clusters=i, init='k-means++', n_init=10, max_iter=100, random_state=42) # Se configura el modelo con cada K\n",
        "    q, mod = divmod(i, 2) # Esto es para visualizar los 4 graficos uno al lado del otro\n",
        "    visualizer = SilhouetteVisualizer(km, colors='yellowbrick', ax=ax[q-2][mod]) # Se crean visualizaciones para cada valor de K\n",
        "    visualizer.fit(df1)\n",
        "    row=row+1"
      ],
      "execution_count": null,
      "outputs": [
        {
          "output_type": "display_data",
          "data": {
            "text/plain": [
              "<Figure size 1080x576 with 4 Axes>"
            ],
            "image/png": "[encoded data removed]"
          },
          "metadata": {}
        }
      ]
    },
    {
      "cell_type": "markdown",
      "metadata": {
        "id": "IM5762jPw1TV"
      },
      "source": [
        "## Ahora tú - Taller\n",
        "Experimenta con el conjunto de datos y aumenta el coeficiente de silueta\n",
        "\n",
        "Genera e interpreta los clusters que te arrojan mejor coeficiente de silueta. Analiza también el gráfico del codo.\n",
        "\n",
        "Mínimo 3 experimentos.\n"
      ]
    },
    {
      "cell_type": "code",
      "metadata": {
        "id": "0ZJwLwLH6F2g"
      },
      "source": [],
      "execution_count": null,
      "outputs": []
    },
    {
      "cell_type": "code",
      "metadata": {
        "id": "VwV3ATSc6Fk0"
      },
      "source": [],
      "execution_count": null,
      "outputs": []
    },
    {
      "cell_type": "markdown",
      "source": [
        "# Experimento 2 eliminando atributos"
      ],
      "metadata": {
        "id": "xuHwByIPj8sc"
      }
    },
    {
      "cell_type": "markdown",
      "source": [
        "## Preparación de datos"
      ],
      "metadata": {
        "id": "4crYE331t1Rg"
      }
    },
    {
      "cell_type": "code",
      "source": [
        "cluster_df2 = df_numerizado.copy()\n"
      ],
      "metadata": {
        "id": "oHKqyyhVgf1R"
      },
      "execution_count": null,
      "outputs": []
    },
    {
      "cell_type": "code",
      "source": [
        "cluster_df2.columns"
      ],
      "metadata": {
        "colab": {
          "base_uri": "https://localhost:8080/"
        },
        "id": "kQJIj7W8gwMR",
        "outputId": "b5429f08-73d4-4a63-e040-8a46315f9447"
      },
      "execution_count": null,
      "outputs": [
        {
          "output_type": "execute_result",
          "data": {
            "text/plain": [
              "Index(['MaritalStatus', 'Gender', 'YearlyIncome', 'TotalChildren',\n",
              "       'NumberChildrenAtHome', 'SpanishEducation', 'HouseOwnerFlag',\n",
              "       'NumberCarsOwned', 'CommuteDistance', 'Age', 'BikeBuyer',\n",
              "       'SpanishOccupation_Administrativo', 'SpanishOccupation_Gestión',\n",
              "       'SpanishOccupation_Obrero especializado',\n",
              "       'SpanishOccupation_Profesional'],\n",
              "      dtype='object')"
            ]
          },
          "metadata": {},
          "execution_count": 33
        }
      ]
    },
    {
      "cell_type": "code",
      "source": [
        "cluster_df2.drop(columns =['SpanishOccupation_Administrativo', 'SpanishOccupation_Gestión',\n",
        "       'SpanishOccupation_Obrero especializado',\n",
        "       'SpanishOccupation_Profesional'], axis=1, inplace=True)\n"
      ],
      "metadata": {
        "id": "bKN8v6pogfnX"
      },
      "execution_count": null,
      "outputs": []
    },
    {
      "cell_type": "markdown",
      "source": [
        "Analizaremos los atípicos univariados."
      ],
      "metadata": {
        "id": "D4djgHIZxmMF"
      }
    },
    {
      "cell_type": "code",
      "source": [
        "ax = sns.boxplot(data=cluster_df2, orient=\"h\", palette=\"Set2\")\n"
      ],
      "metadata": {
        "colab": {
          "base_uri": "https://localhost:8080/",
          "height": 369
        },
        "id": "dtGXkPhnxalu",
        "outputId": "37232bfd-7885-4923-ee91-13ac3f7b62ee"
      },
      "execution_count": null,
      "outputs": [
        {
          "output_type": "display_data",
          "data": {
            "text/plain": [
              "<Figure size 576x396 with 1 Axes>"
            ],
            "image/png": "[encoded data removed]"
          },
          "metadata": {}
        }
      ]
    },
    {
      "cell_type": "markdown",
      "source": [
        "Ahora graficaremos todos excepto el que está en un rango muy grande"
      ],
      "metadata": {
        "id": "uCGM7o6bxaOe"
      }
    },
    {
      "cell_type": "code",
      "source": [
        "ax = sns.boxplot(data=cluster_df2.loc[:, cluster_df2.columns != 'YearlyIncome'], orient=\"h\", palette=\"Set2\")\n"
      ],
      "metadata": {
        "colab": {
          "base_uri": "https://localhost:8080/",
          "height": 369
        },
        "id": "tcMJOnUVunOa",
        "outputId": "63ac7d24-3bb8-4b3a-a1c5-01931eb83436"
      },
      "execution_count": null,
      "outputs": [
        {
          "output_type": "display_data",
          "data": {
            "text/plain": [
              "<Figure size 576x396 with 1 Axes>"
            ],
            "image/png": "[encoded data removed]"
          },
          "metadata": {}
        }
      ]
    },
    {
      "cell_type": "markdown",
      "source": [
        "###  Remoción de outliers\n",
        "Crearemos una función que retorne los límites superiores e inferiores de outliers."
      ],
      "metadata": {
        "id": "e6cjfNtBx1XG"
      }
    },
    {
      "cell_type": "code",
      "source": [
        "import numpy as np\n",
        "\n",
        "def  limitesInconsistente(observaciones):\n",
        "  # Cuartil 1\n",
        "  q1 = np.quantile(observaciones, 0.25)\n",
        " \n",
        "  # Cuartil 3\n",
        "  q3 = np.quantile(observaciones, 0.75)\n",
        "  med = np.median(observaciones)\n",
        "  \n",
        "  # IQR\n",
        "  iqr = q3-q1\n",
        "  \n",
        "  # bigotes\n",
        "  upper_bound = q3+(1.5*iqr)\n",
        "  lower_bound = q1-(1.5*iqr)\n",
        "\n",
        "  print(q1, med, q3, iqr)\n",
        "  return upper_bound, lower_bound"
      ],
      "metadata": {
        "id": "c3IQoNRt7BlU"
      },
      "execution_count": null,
      "outputs": []
    },
    {
      "cell_type": "code",
      "source": [
        "upper_bound, lower_bound = limitesInconsistente(cluster_df2['YearlyIncome'])\n",
        "cluster_df2 = cluster_df2[(cluster_df2[\"YearlyIncome\"] < upper_bound) & (cluster_df2[\"YearlyIncome\"] > lower_bound)]"
      ],
      "metadata": {
        "colab": {
          "base_uri": "https://localhost:8080/"
        },
        "id": "t34DiQuiyvXD",
        "outputId": "ca7b342d-fe0b-4188-f7f7-dedb90a48ce7"
      },
      "execution_count": null,
      "outputs": [
        {
          "output_type": "stream",
          "name": "stdout",
          "text": [
            "30000.0 60000.0 70000.0 40000.0\n"
          ]
        }
      ]
    },
    {
      "cell_type": "code",
      "source": [
        "upper_bound, lower_bound"
      ],
      "metadata": {
        "colab": {
          "base_uri": "https://localhost:8080/"
        },
        "id": "mCMIGKMP8uFE",
        "outputId": "28e45654-b101-48a7-90a9-53a853d7e824"
      },
      "execution_count": null,
      "outputs": [
        {
          "output_type": "execute_result",
          "data": {
            "text/plain": [
              "(130000.0, -30000.0)"
            ]
          },
          "metadata": {},
          "execution_count": 39
        }
      ]
    },
    {
      "cell_type": "code",
      "source": [
        "ax = sns.boxplot(data=cluster_df2, orient=\"h\", palette=\"Set2\")\n"
      ],
      "metadata": {
        "colab": {
          "base_uri": "https://localhost:8080/",
          "height": 369
        },
        "id": "ym8eO5sHzKf-",
        "outputId": "d64c58ea-2b86-47a4-f18d-c093984b23fb"
      },
      "execution_count": null,
      "outputs": [
        {
          "output_type": "display_data",
          "data": {
            "text/plain": [
              "<Figure size 576x396 with 1 Axes>"
            ],
            "image/png": "[encoded data removed]"
          },
          "metadata": {}
        }
      ]
    },
    {
      "cell_type": "code",
      "source": [
        "upper_bound, lower_bound = limitesInconsistente(cluster_df2['Age'])\n",
        "cluster_df2 = cluster_df2[(cluster_df2[\"Age\"] < upper_bound) & (cluster_df2[\"Age\"] > lower_bound)]"
      ],
      "metadata": {
        "colab": {
          "base_uri": "https://localhost:8080/"
        },
        "id": "9UKQYxCc-wPH",
        "outputId": "c88d7b67-2ad8-4c68-fb32-d5b9acfc1ba3"
      },
      "execution_count": null,
      "outputs": [
        {
          "output_type": "stream",
          "name": "stdout",
          "text": [
            "44.0 51.0 60.0 16.0\n"
          ]
        }
      ]
    },
    {
      "cell_type": "code",
      "source": [
        "upper_bound, lower_bound"
      ],
      "metadata": {
        "colab": {
          "base_uri": "https://localhost:8080/"
        },
        "id": "mq88JoKkBXuO",
        "outputId": "2828907a-cf00-4ef8-811d-4b5cfee03db5"
      },
      "execution_count": null,
      "outputs": [
        {
          "output_type": "execute_result",
          "data": {
            "text/plain": [
              "(84.0, 20.0)"
            ]
          },
          "metadata": {},
          "execution_count": 42
        }
      ]
    },
    {
      "cell_type": "code",
      "source": [
        "ax = sns.boxplot(data=cluster_df2.loc[:, cluster_df2.columns != 'YearlyIncome'], orient=\"h\", palette=\"Set2\")\n"
      ],
      "metadata": {
        "colab": {
          "base_uri": "https://localhost:8080/",
          "height": 369
        },
        "id": "pkYpteeQ-zoE",
        "outputId": "dd3742b9-d309-4a44-e0bb-813956cb8807"
      },
      "execution_count": null,
      "outputs": [
        {
          "output_type": "display_data",
          "data": {
            "text/plain": [
              "<Figure size 576x396 with 1 Axes>"
            ],
            "image/png": "[encoded data removed]"
          },
          "metadata": {}
        }
      ]
    },
    {
      "cell_type": "code",
      "source": [
        "upper_bound, lower_bound = limitesInconsistente(cluster_df2['NumberChildrenAtHome'])\n",
        "cluster_df2 = cluster_df2[(cluster_df2[\"NumberChildrenAtHome\"] < upper_bound) & (cluster_df2[\"NumberChildrenAtHome\"] > lower_bound)]"
      ],
      "metadata": {
        "colab": {
          "base_uri": "https://localhost:8080/"
        },
        "id": "CQBJBHGk_H-V",
        "outputId": "a1c7a974-3232-45c5-fc4a-1c72e1311ece"
      },
      "execution_count": null,
      "outputs": [
        {
          "output_type": "stream",
          "name": "stdout",
          "text": [
            "0.0 0.0 1.0 1.0\n"
          ]
        }
      ]
    },
    {
      "cell_type": "code",
      "source": [
        "upper_bound, lower_bound"
      ],
      "metadata": {
        "colab": {
          "base_uri": "https://localhost:8080/"
        },
        "id": "AMDwKmILBe06",
        "outputId": "23540c15-1d8c-4194-a8f7-82b5da1bf2d5"
      },
      "execution_count": null,
      "outputs": [
        {
          "output_type": "execute_result",
          "data": {
            "text/plain": [
              "(2.5, -1.5)"
            ]
          },
          "metadata": {},
          "execution_count": 45
        }
      ]
    },
    {
      "cell_type": "code",
      "source": [
        "upper_bound, lower_bound = limitesInconsistente(cluster_df2['NumberCarsOwned'])\n",
        "cluster_df2 = cluster_df2[(cluster_df2[\"NumberCarsOwned\"] < upper_bound) & (cluster_df2[\"NumberCarsOwned\"] > lower_bound)]"
      ],
      "metadata": {
        "colab": {
          "base_uri": "https://localhost:8080/"
        },
        "id": "57tFK6BJ_Vhh",
        "outputId": "025fe016-d257-411d-c88b-19524a357380"
      },
      "execution_count": null,
      "outputs": [
        {
          "output_type": "stream",
          "name": "stdout",
          "text": [
            "0.0 1.0 2.0 2.0\n"
          ]
        }
      ]
    },
    {
      "cell_type": "code",
      "source": [
        "upper_bound, lower_bound"
      ],
      "metadata": {
        "colab": {
          "base_uri": "https://localhost:8080/"
        },
        "id": "FNy5omQ7BhV0",
        "outputId": "6c8f2be2-01fa-44fa-bde2-de13bb09df71"
      },
      "execution_count": null,
      "outputs": [
        {
          "output_type": "execute_result",
          "data": {
            "text/plain": [
              "(5.0, -3.0)"
            ]
          },
          "metadata": {},
          "execution_count": 47
        }
      ]
    },
    {
      "cell_type": "code",
      "source": [
        "ax = sns.boxplot(data=cluster_df2.loc[:, cluster_df2.columns != 'YearlyIncome'], orient=\"h\", palette=\"Set2\")\n"
      ],
      "metadata": {
        "colab": {
          "base_uri": "https://localhost:8080/",
          "height": 369
        },
        "id": "iqHJgzaY_ewg",
        "outputId": "81d2a3ae-c548-4c1c-fcc6-01e8db8882e2"
      },
      "execution_count": null,
      "outputs": [
        {
          "output_type": "display_data",
          "data": {
            "text/plain": [
              "<Figure size 576x396 with 1 Axes>"
            ],
            "image/png": "[encoded data removed]"
          },
          "metadata": {}
        }
      ]
    },
    {
      "cell_type": "markdown",
      "source": [
        "###  Normalización"
      ],
      "metadata": {
        "id": "54VdNq2SCnbT"
      }
    },
    {
      "cell_type": "code",
      "source": [
        "min_max_scaler = MinMaxScaler()\n",
        "cluster_df2[:] = min_max_scaler.fit_transform(cluster_df2)"
      ],
      "metadata": {
        "id": "0j_jM3Pfu6eC"
      },
      "execution_count": null,
      "outputs": []
    },
    {
      "cell_type": "markdown",
      "source": [
        "## Aplicación del algoritmo"
      ],
      "metadata": {
        "id": "K4IBhTdVt5w0"
      }
    },
    {
      "cell_type": "code",
      "source": [
        "clusterer = KMeans(init = \"k-means++\", n_clusters = 8, n_init = 12, max_iter=500, random_state=1)"
      ],
      "metadata": {
        "id": "NQDG36F0o3tz"
      },
      "execution_count": null,
      "outputs": []
    },
    {
      "cell_type": "code",
      "source": [
        "cluster_labels = clusterer.fit_predict(cluster_df2)"
      ],
      "metadata": {
        "id": "HOAPgUwukF8C"
      },
      "execution_count": null,
      "outputs": []
    },
    {
      "cell_type": "code",
      "source": [
        "cluster_df2[\"Cluster\"] = cluster_labels\n",
        "cluster_df2.head(10)"
      ],
      "metadata": {
        "colab": {
          "base_uri": "https://localhost:8080/",
          "height": 427
        },
        "id": "jFEZE38hkJYb",
        "outputId": "0f508eee-31aa-450d-ae6a-45ab54708ccc"
      },
      "execution_count": null,
      "outputs": [
        {
          "output_type": "execute_result",
          "data": {
            "text/plain": [
              "    MaritalStatus  Gender  YearlyIncome  TotalChildren  NumberChildrenAtHome  \\\n",
              "0             0.0     1.0      0.727273            0.4                   0.0   \n",
              "3             1.0     0.0      0.545455            0.0                   0.0   \n",
              "5             1.0     1.0      0.545455            0.0                   0.0   \n",
              "6             1.0     0.0      0.545455            0.0                   0.0   \n",
              "9             1.0     1.0      0.545455            0.0                   0.0   \n",
              "10            1.0     0.0      0.545455            0.0                   0.0   \n",
              "12            0.0     0.0      0.818182            0.4                   0.0   \n",
              "13            0.0     1.0      0.818182            0.4                   0.0   \n",
              "14            1.0     0.0      0.818182            0.6                   0.0   \n",
              "15            1.0     0.0      0.181818            0.0                   0.0   \n",
              "\n",
              "    SpanishEducation  HouseOwnerFlag  NumberCarsOwned  CommuteDistance  \\\n",
              "0               1.00             1.0             0.00             0.25   \n",
              "3               1.00             0.0             0.25             1.00   \n",
              "5               1.00             1.0             0.25             1.00   \n",
              "6               1.00             1.0             0.25             1.00   \n",
              "9               1.00             0.0             0.25             1.00   \n",
              "10              1.00             0.0             0.25             1.00   \n",
              "12              1.00             1.0             0.50             0.25   \n",
              "13              1.00             1.0             0.75             0.00   \n",
              "14              1.00             0.0             0.75             0.25   \n",
              "15              0.75             0.0             0.25             1.00   \n",
              "\n",
              "         Age  BikeBuyer  Cluster  \n",
              "0   0.306122        1.0        2  \n",
              "3   0.265306        1.0        5  \n",
              "5   0.306122        1.0        1  \n",
              "6   0.306122        1.0        1  \n",
              "9   0.346939        1.0        5  \n",
              "10  0.346939        1.0        5  \n",
              "12  0.265306        0.0        3  \n",
              "13  0.244898        0.0        0  \n",
              "14  0.244898        0.0        4  \n",
              "15  0.040816        1.0        5  "
            ],
            "text/html": [
              "\n",
              "  <div id=\"df-35ca9bc3-268b-4a58-8941-cd1c9ec15c0a\">\n",
              "    <div class=\"colab-df-container\">\n",
              "      <div>\n",
              "<style scoped>\n",
              "    .dataframe tbody tr th:only-of-type {\n",
              "        vertical-align: middle;\n",
              "    }\n",
              "\n",
              "    .dataframe tbody tr th {\n",
              "        vertical-align: top;\n",
              "    }\n",
              "\n",
              "    .dataframe thead th {\n",
              "        text-align: right;\n",
              "    }\n",
              "</style>\n",
              "<table border=\"1\" class=\"dataframe\">\n",
              "  <thead>\n",
              "    <tr style=\"text-align: right;\">\n",
              "      <th></th>\n",
              "      <th>MaritalStatus</th>\n",
              "      <th>Gender</th>\n",
              "      <th>YearlyIncome</th>\n",
              "      <th>TotalChildren</th>\n",
              "      <th>NumberChildrenAtHome</th>\n",
              "      <th>SpanishEducation</th>\n",
              "      <th>HouseOwnerFlag</th>\n",
              "      <th>NumberCarsOwned</th>\n",
              "      <th>CommuteDistance</th>\n",
              "      <th>Age</th>\n",
              "      <th>BikeBuyer</th>\n",
              "      <th>Cluster</th>\n",
              "    </tr>\n",
              "  </thead>\n",
              "  <tbody>\n",
              "    <tr>\n",
              "      <th>0</th>\n",
              "      <td>0.0</td>\n",
              "      <td>1.0</td>\n",
              "      <td>0.727273</td>\n",
              "      <td>0.4</td>\n",
              "      <td>0.0</td>\n",
              "      <td>1.00</td>\n",
              "      <td>1.0</td>\n",
              "      <td>0.00</td>\n",
              "      <td>0.25</td>\n",
              "      <td>0.306122</td>\n",
              "      <td>1.0</td>\n",
              "      <td>2</td>\n",
              "    </tr>\n",
              "    <tr>\n",
              "      <th>3</th>\n",
              "      <td>1.0</td>\n",
              "      <td>0.0</td>\n",
              "      <td>0.545455</td>\n",
              "      <td>0.0</td>\n",
              "      <td>0.0</td>\n",
              "      <td>1.00</td>\n",
              "      <td>0.0</td>\n",
              "      <td>0.25</td>\n",
              "      <td>1.00</td>\n",
              "      <td>0.265306</td>\n",
              "      <td>1.0</td>\n",
              "      <td>5</td>\n",
              "    </tr>\n",
              "    <tr>\n",
              "      <th>5</th>\n",
              "      <td>1.0</td>\n",
              "      <td>1.0</td>\n",
              "      <td>0.545455</td>\n",
              "      <td>0.0</td>\n",
              "      <td>0.0</td>\n",
              "      <td>1.00</td>\n",
              "      <td>1.0</td>\n",
              "      <td>0.25</td>\n",
              "      <td>1.00</td>\n",
              "      <td>0.306122</td>\n",
              "      <td>1.0</td>\n",
              "      <td>1</td>\n",
              "    </tr>\n",
              "    <tr>\n",
              "      <th>6</th>\n",
              "      <td>1.0</td>\n",
              "      <td>0.0</td>\n",
              "      <td>0.545455</td>\n",
              "      <td>0.0</td>\n",
              "      <td>0.0</td>\n",
              "      <td>1.00</td>\n",
              "      <td>1.0</td>\n",
              "      <td>0.25</td>\n",
              "      <td>1.00</td>\n",
              "      <td>0.306122</td>\n",
              "      <td>1.0</td>\n",
              "      <td>1</td>\n",
              "    </tr>\n",
              "    <tr>\n",
              "      <th>9</th>\n",
              "      <td>1.0</td>\n",
              "      <td>1.0</td>\n",
              "      <td>0.545455</td>\n",
              "      <td>0.0</td>\n",
              "      <td>0.0</td>\n",
              "      <td>1.00</td>\n",
              "      <td>0.0</td>\n",
              "      <td>0.25</td>\n",
              "      <td>1.00</td>\n",
              "      <td>0.346939</td>\n",
              "      <td>1.0</td>\n",
              "      <td>5</td>\n",
              "    </tr>\n",
              "    <tr>\n",
              "      <th>10</th>\n",
              "      <td>1.0</td>\n",
              "      <td>0.0</td>\n",
              "      <td>0.545455</td>\n",
              "      <td>0.0</td>\n",
              "      <td>0.0</td>\n",
              "      <td>1.00</td>\n",
              "      <td>0.0</td>\n",
              "      <td>0.25</td>\n",
              "      <td>1.00</td>\n",
              "      <td>0.346939</td>\n",
              "      <td>1.0</td>\n",
              "      <td>5</td>\n",
              "    </tr>\n",
              "    <tr>\n",
              "      <th>12</th>\n",
              "      <td>0.0</td>\n",
              "      <td>0.0</td>\n",
              "      <td>0.818182</td>\n",
              "      <td>0.4</td>\n",
              "      <td>0.0</td>\n",
              "      <td>1.00</td>\n",
              "      <td>1.0</td>\n",
              "      <td>0.50</td>\n",
              "      <td>0.25</td>\n",
              "      <td>0.265306</td>\n",
              "      <td>0.0</td>\n",
              "      <td>3</td>\n",
              "    </tr>\n",
              "    <tr>\n",
              "      <th>13</th>\n",
              "      <td>0.0</td>\n",
              "      <td>1.0</td>\n",
              "      <td>0.818182</td>\n",
              "      <td>0.4</td>\n",
              "      <td>0.0</td>\n",
              "      <td>1.00</td>\n",
              "      <td>1.0</td>\n",
              "      <td>0.75</td>\n",
              "      <td>0.00</td>\n",
              "      <td>0.244898</td>\n",
              "      <td>0.0</td>\n",
              "      <td>0</td>\n",
              "    </tr>\n",
              "    <tr>\n",
              "      <th>14</th>\n",
              "      <td>1.0</td>\n",
              "      <td>0.0</td>\n",
              "      <td>0.818182</td>\n",
              "      <td>0.6</td>\n",
              "      <td>0.0</td>\n",
              "      <td>1.00</td>\n",
              "      <td>0.0</td>\n",
              "      <td>0.75</td>\n",
              "      <td>0.25</td>\n",
              "      <td>0.244898</td>\n",
              "      <td>0.0</td>\n",
              "      <td>4</td>\n",
              "    </tr>\n",
              "    <tr>\n",
              "      <th>15</th>\n",
              "      <td>1.0</td>\n",
              "      <td>0.0</td>\n",
              "      <td>0.181818</td>\n",
              "      <td>0.0</td>\n",
              "      <td>0.0</td>\n",
              "      <td>0.75</td>\n",
              "      <td>0.0</td>\n",
              "      <td>0.25</td>\n",
              "      <td>1.00</td>\n",
              "      <td>0.040816</td>\n",
              "      <td>1.0</td>\n",
              "      <td>5</td>\n",
              "    </tr>\n",
              "  </tbody>\n",
              "</table>\n",
              "</div>\n",
              "      <button class=\"colab-df-convert\" onclick=\"convertToInteractive('df-35ca9bc3-268b-4a58-8941-cd1c9ec15c0a')\"\n",
              "              title=\"Convert this dataframe to an interactive table.\"\n",
              "              style=\"display:none;\">\n",
              "        \n",
              "  <svg xmlns=\"http://www.w3.org/2000/svg\" height=\"24px\"viewBox=\"0 0 24 24\"\n",
              "       width=\"24px\">\n",
              "    <path d=\"M0 0h24v24H0V0z\" fill=\"none\"/>\n",
              "    <path d=\"M18.56 5.44l.94 2.06.94-2.06 2.06-.94-2.06-.94-.94-2.06-.94 2.06-2.06.94zm-11 1L8.5 8.5l.94-2.06 2.06-.94-2.06-.94L8.5 2.5l-.94 2.06-2.06.94zm10 10l.94 2.06.94-2.06 2.06-.94-2.06-.94-.94-2.06-.94 2.06-2.06.94z\"/><path d=\"M17.41 7.96l-1.37-1.37c-.4-.4-.92-.59-1.43-.59-.52 0-1.04.2-1.43.59L10.3 9.45l-7.72 7.72c-.78.78-.78 2.05 0 2.83L4 21.41c.39.39.9.59 1.41.59.51 0 1.02-.2 1.41-.59l7.78-7.78 2.81-2.81c.8-.78.8-2.07 0-2.86zM5.41 20L4 18.59l7.72-7.72 1.47 1.35L5.41 20z\"/>\n",
              "  </svg>\n",
              "      </button>\n",
              "      \n",
              "  <style>\n",
              "    .colab-df-container {\n",
              "      display:flex;\n",
              "      flex-wrap:wrap;\n",
              "      gap: 12px;\n",
              "    }\n",
              "\n",
              "    .colab-df-convert {\n",
              "      background-color: #E8F0FE;\n",
              "      border: none;\n",
              "      border-radius: 50%;\n",
              "      cursor: pointer;\n",
              "      display: none;\n",
              "      fill: #1967D2;\n",
              "      height: 32px;\n",
              "      padding: 0 0 0 0;\n",
              "      width: 32px;\n",
              "    }\n",
              "\n",
              "    .colab-df-convert:hover {\n",
              "      background-color: #E2EBFA;\n",
              "      box-shadow: 0px 1px 2px rgba(60, 64, 67, 0.3), 0px 1px 3px 1px rgba(60, 64, 67, 0.15);\n",
              "      fill: #174EA6;\n",
              "    }\n",
              "\n",
              "    [theme=dark] .colab-df-convert {\n",
              "      background-color: #3B4455;\n",
              "      fill: #D2E3FC;\n",
              "    }\n",
              "\n",
              "    [theme=dark] .colab-df-convert:hover {\n",
              "      background-color: #434B5C;\n",
              "      box-shadow: 0px 1px 3px 1px rgba(0, 0, 0, 0.15);\n",
              "      filter: drop-shadow(0px 1px 2px rgba(0, 0, 0, 0.3));\n",
              "      fill: #FFFFFF;\n",
              "    }\n",
              "  </style>\n",
              "\n",
              "      <script>\n",
              "        const buttonEl =\n",
              "          document.querySelector('#df-35ca9bc3-268b-4a58-8941-cd1c9ec15c0a button.colab-df-convert');\n",
              "        buttonEl.style.display =\n",
              "          google.colab.kernel.accessAllowed ? 'block' : 'none';\n",
              "\n",
              "        async function convertToInteractive(key) {\n",
              "          const element = document.querySelector('#df-35ca9bc3-268b-4a58-8941-cd1c9ec15c0a');\n",
              "          const dataTable =\n",
              "            await google.colab.kernel.invokeFunction('convertToInteractive',\n",
              "                                                     [key], {});\n",
              "          if (!dataTable) return;\n",
              "\n",
              "          const docLinkHtml = 'Like what you see? Visit the ' +\n",
              "            '<a target=\"_blank\" href=https://colab.research.google.com/notebooks/data_table.ipynb>data table notebook</a>'\n",
              "            + ' to learn more about interactive tables.';\n",
              "          element.innerHTML = '';\n",
              "          dataTable['output_type'] = 'display_data';\n",
              "          await google.colab.output.renderOutput(dataTable, element);\n",
              "          const docLink = document.createElement('div');\n",
              "          docLink.innerHTML = docLinkHtml;\n",
              "          element.appendChild(docLink);\n",
              "        }\n",
              "      </script>\n",
              "    </div>\n",
              "  </div>\n",
              "  "
            ]
          },
          "metadata": {},
          "execution_count": 53
        }
      ]
    },
    {
      "cell_type": "markdown",
      "source": [
        "## Análisis de los clusters resultantes"
      ],
      "metadata": {
        "id": "G0NQF5Fyt-fI"
      }
    },
    {
      "cell_type": "code",
      "source": [
        "cluster_df[\"Cluster\"].value_counts()\n"
      ],
      "metadata": {
        "colab": {
          "base_uri": "https://localhost:8080/"
        },
        "id": "tjIP-rLrqhUZ",
        "outputId": "d790d271-5b77-452f-a707-3f0f00c985e9"
      },
      "execution_count": null,
      "outputs": [
        {
          "output_type": "execute_result",
          "data": {
            "text/plain": [
              "0    4220\n",
              "1    3137\n",
              "5    3017\n",
              "3    2933\n",
              "4    2783\n",
              "2    2394\n",
              "Name: Cluster, dtype: int64"
            ]
          },
          "metadata": {},
          "execution_count": 54
        }
      ]
    },
    {
      "cell_type": "code",
      "source": [
        "centroides = cluster_df2.groupby('Cluster').mean()\n",
        "centroides"
      ],
      "metadata": {
        "colab": {
          "base_uri": "https://localhost:8080/",
          "height": 395
        },
        "id": "4cS0pHM-kZ6V",
        "outputId": "4c8509be-477b-4bd4-88ac-9b11ae047314"
      },
      "execution_count": null,
      "outputs": [
        {
          "output_type": "execute_result",
          "data": {
            "text/plain": [
              "         MaritalStatus    Gender  YearlyIncome  TotalChildren  \\\n",
              "Cluster                                                         \n",
              "0                  0.0  1.000000      0.356371       0.378168   \n",
              "1                  1.0  0.485405      0.379459       0.327243   \n",
              "2                  0.0  1.000000      0.388588       0.341651   \n",
              "3                  0.0  0.000000      0.355873       0.379458   \n",
              "4                  1.0  0.498515      0.298169       0.176233   \n",
              "5                  1.0  0.472193      0.364972       0.185624   \n",
              "6                  1.0  0.465635      0.332339       0.339567   \n",
              "7                  0.0  0.000000      0.381224       0.335579   \n",
              "\n",
              "         NumberChildrenAtHome  SpanishEducation  HouseOwnerFlag  \\\n",
              "Cluster                                                           \n",
              "0                    0.183480          0.561282        0.774854   \n",
              "1                    0.258919          0.631351        1.000000   \n",
              "2                    0.199136          0.672505        0.815739   \n",
              "3                    0.189844          0.550923        0.803231   \n",
              "4                    0.085859          0.521687        0.000000   \n",
              "5                    0.143232          0.641133        0.000000   \n",
              "6                    0.216409          0.505418        1.000000   \n",
              "7                    0.193211          0.691041        0.842777   \n",
              "\n",
              "         NumberCarsOwned  CommuteDistance       Age  BikeBuyer  \n",
              "Cluster                                                         \n",
              "0               0.353314         0.435794  0.455593        0.0  \n",
              "1               0.272973         0.531486  0.364567        1.0  \n",
              "2               0.258997         0.390835  0.388842        1.0  \n",
              "3               0.362233         0.449221  0.460756        0.0  \n",
              "4               0.379531         0.361854  0.284502        0.0  \n",
              "5               0.303515         0.261149  0.282288        1.0  \n",
              "6               0.372136         0.559598  0.381980        0.0  \n",
              "7               0.248979         0.368811  0.390860        1.0  "
            ],
            "text/html": [
              "\n",
              "  <div id=\"df-992cbb30-dac8-4a28-88a3-e6e927717557\">\n",
              "    <div class=\"colab-df-container\">\n",
              "      <div>\n",
              "<style scoped>\n",
              "    .dataframe tbody tr th:only-of-type {\n",
              "        vertical-align: middle;\n",
              "    }\n",
              "\n",
              "    .dataframe tbody tr th {\n",
              "        vertical-align: top;\n",
              "    }\n",
              "\n",
              "    .dataframe thead th {\n",
              "        text-align: right;\n",
              "    }\n",
              "</style>\n",
              "<table border=\"1\" class=\"dataframe\">\n",
              "  <thead>\n",
              "    <tr style=\"text-align: right;\">\n",
              "      <th></th>\n",
              "      <th>MaritalStatus</th>\n",
              "      <th>Gender</th>\n",
              "      <th>YearlyIncome</th>\n",
              "      <th>TotalChildren</th>\n",
              "      <th>NumberChildrenAtHome</th>\n",
              "      <th>SpanishEducation</th>\n",
              "      <th>HouseOwnerFlag</th>\n",
              "      <th>NumberCarsOwned</th>\n",
              "      <th>CommuteDistance</th>\n",
              "      <th>Age</th>\n",
              "      <th>BikeBuyer</th>\n",
              "    </tr>\n",
              "    <tr>\n",
              "      <th>Cluster</th>\n",
              "      <th></th>\n",
              "      <th></th>\n",
              "      <th></th>\n",
              "      <th></th>\n",
              "      <th></th>\n",
              "      <th></th>\n",
              "      <th></th>\n",
              "      <th></th>\n",
              "      <th></th>\n",
              "      <th></th>\n",
              "      <th></th>\n",
              "    </tr>\n",
              "  </thead>\n",
              "  <tbody>\n",
              "    <tr>\n",
              "      <th>0</th>\n",
              "      <td>0.0</td>\n",
              "      <td>1.000000</td>\n",
              "      <td>0.356371</td>\n",
              "      <td>0.378168</td>\n",
              "      <td>0.183480</td>\n",
              "      <td>0.561282</td>\n",
              "      <td>0.774854</td>\n",
              "      <td>0.353314</td>\n",
              "      <td>0.435794</td>\n",
              "      <td>0.455593</td>\n",
              "      <td>0.0</td>\n",
              "    </tr>\n",
              "    <tr>\n",
              "      <th>1</th>\n",
              "      <td>1.0</td>\n",
              "      <td>0.485405</td>\n",
              "      <td>0.379459</td>\n",
              "      <td>0.327243</td>\n",
              "      <td>0.258919</td>\n",
              "      <td>0.631351</td>\n",
              "      <td>1.000000</td>\n",
              "      <td>0.272973</td>\n",
              "      <td>0.531486</td>\n",
              "      <td>0.364567</td>\n",
              "      <td>1.0</td>\n",
              "    </tr>\n",
              "    <tr>\n",
              "      <th>2</th>\n",
              "      <td>0.0</td>\n",
              "      <td>1.000000</td>\n",
              "      <td>0.388588</td>\n",
              "      <td>0.341651</td>\n",
              "      <td>0.199136</td>\n",
              "      <td>0.672505</td>\n",
              "      <td>0.815739</td>\n",
              "      <td>0.258997</td>\n",
              "      <td>0.390835</td>\n",
              "      <td>0.388842</td>\n",
              "      <td>1.0</td>\n",
              "    </tr>\n",
              "    <tr>\n",
              "      <th>3</th>\n",
              "      <td>0.0</td>\n",
              "      <td>0.000000</td>\n",
              "      <td>0.355873</td>\n",
              "      <td>0.379458</td>\n",
              "      <td>0.189844</td>\n",
              "      <td>0.550923</td>\n",
              "      <td>0.803231</td>\n",
              "      <td>0.362233</td>\n",
              "      <td>0.449221</td>\n",
              "      <td>0.460756</td>\n",
              "      <td>0.0</td>\n",
              "    </tr>\n",
              "    <tr>\n",
              "      <th>4</th>\n",
              "      <td>1.0</td>\n",
              "      <td>0.498515</td>\n",
              "      <td>0.298169</td>\n",
              "      <td>0.176233</td>\n",
              "      <td>0.085859</td>\n",
              "      <td>0.521687</td>\n",
              "      <td>0.000000</td>\n",
              "      <td>0.379531</td>\n",
              "      <td>0.361854</td>\n",
              "      <td>0.284502</td>\n",
              "      <td>0.0</td>\n",
              "    </tr>\n",
              "    <tr>\n",
              "      <th>5</th>\n",
              "      <td>1.0</td>\n",
              "      <td>0.472193</td>\n",
              "      <td>0.364972</td>\n",
              "      <td>0.185624</td>\n",
              "      <td>0.143232</td>\n",
              "      <td>0.641133</td>\n",
              "      <td>0.000000</td>\n",
              "      <td>0.303515</td>\n",
              "      <td>0.261149</td>\n",
              "      <td>0.282288</td>\n",
              "      <td>1.0</td>\n",
              "    </tr>\n",
              "    <tr>\n",
              "      <th>6</th>\n",
              "      <td>1.0</td>\n",
              "      <td>0.465635</td>\n",
              "      <td>0.332339</td>\n",
              "      <td>0.339567</td>\n",
              "      <td>0.216409</td>\n",
              "      <td>0.505418</td>\n",
              "      <td>1.000000</td>\n",
              "      <td>0.372136</td>\n",
              "      <td>0.559598</td>\n",
              "      <td>0.381980</td>\n",
              "      <td>0.0</td>\n",
              "    </tr>\n",
              "    <tr>\n",
              "      <th>7</th>\n",
              "      <td>0.0</td>\n",
              "      <td>0.000000</td>\n",
              "      <td>0.381224</td>\n",
              "      <td>0.335579</td>\n",
              "      <td>0.193211</td>\n",
              "      <td>0.691041</td>\n",
              "      <td>0.842777</td>\n",
              "      <td>0.248979</td>\n",
              "      <td>0.368811</td>\n",
              "      <td>0.390860</td>\n",
              "      <td>1.0</td>\n",
              "    </tr>\n",
              "  </tbody>\n",
              "</table>\n",
              "</div>\n",
              "      <button class=\"colab-df-convert\" onclick=\"convertToInteractive('df-992cbb30-dac8-4a28-88a3-e6e927717557')\"\n",
              "              title=\"Convert this dataframe to an interactive table.\"\n",
              "              style=\"display:none;\">\n",
              "        \n",
              "  <svg xmlns=\"http://www.w3.org/2000/svg\" height=\"24px\"viewBox=\"0 0 24 24\"\n",
              "       width=\"24px\">\n",
              "    <path d=\"M0 0h24v24H0V0z\" fill=\"none\"/>\n",
              "    <path d=\"M18.56 5.44l.94 2.06.94-2.06 2.06-.94-2.06-.94-.94-2.06-.94 2.06-2.06.94zm-11 1L8.5 8.5l.94-2.06 2.06-.94-2.06-.94L8.5 2.5l-.94 2.06-2.06.94zm10 10l.94 2.06.94-2.06 2.06-.94-2.06-.94-.94-2.06-.94 2.06-2.06.94z\"/><path d=\"M17.41 7.96l-1.37-1.37c-.4-.4-.92-.59-1.43-.59-.52 0-1.04.2-1.43.59L10.3 9.45l-7.72 7.72c-.78.78-.78 2.05 0 2.83L4 21.41c.39.39.9.59 1.41.59.51 0 1.02-.2 1.41-.59l7.78-7.78 2.81-2.81c.8-.78.8-2.07 0-2.86zM5.41 20L4 18.59l7.72-7.72 1.47 1.35L5.41 20z\"/>\n",
              "  </svg>\n",
              "      </button>\n",
              "      \n",
              "  <style>\n",
              "    .colab-df-container {\n",
              "      display:flex;\n",
              "      flex-wrap:wrap;\n",
              "      gap: 12px;\n",
              "    }\n",
              "\n",
              "    .colab-df-convert {\n",
              "      background-color: #E8F0FE;\n",
              "      border: none;\n",
              "      border-radius: 50%;\n",
              "      cursor: pointer;\n",
              "      display: none;\n",
              "      fill: #1967D2;\n",
              "      height: 32px;\n",
              "      padding: 0 0 0 0;\n",
              "      width: 32px;\n",
              "    }\n",
              "\n",
              "    .colab-df-convert:hover {\n",
              "      background-color: #E2EBFA;\n",
              "      box-shadow: 0px 1px 2px rgba(60, 64, 67, 0.3), 0px 1px 3px 1px rgba(60, 64, 67, 0.15);\n",
              "      fill: #174EA6;\n",
              "    }\n",
              "\n",
              "    [theme=dark] .colab-df-convert {\n",
              "      background-color: #3B4455;\n",
              "      fill: #D2E3FC;\n",
              "    }\n",
              "\n",
              "    [theme=dark] .colab-df-convert:hover {\n",
              "      background-color: #434B5C;\n",
              "      box-shadow: 0px 1px 3px 1px rgba(0, 0, 0, 0.15);\n",
              "      filter: drop-shadow(0px 1px 2px rgba(0, 0, 0, 0.3));\n",
              "      fill: #FFFFFF;\n",
              "    }\n",
              "  </style>\n",
              "\n",
              "      <script>\n",
              "        const buttonEl =\n",
              "          document.querySelector('#df-992cbb30-dac8-4a28-88a3-e6e927717557 button.colab-df-convert');\n",
              "        buttonEl.style.display =\n",
              "          google.colab.kernel.accessAllowed ? 'block' : 'none';\n",
              "\n",
              "        async function convertToInteractive(key) {\n",
              "          const element = document.querySelector('#df-992cbb30-dac8-4a28-88a3-e6e927717557');\n",
              "          const dataTable =\n",
              "            await google.colab.kernel.invokeFunction('convertToInteractive',\n",
              "                                                     [key], {});\n",
              "          if (!dataTable) return;\n",
              "\n",
              "          const docLinkHtml = 'Like what you see? Visit the ' +\n",
              "            '<a target=\"_blank\" href=https://colab.research.google.com/notebooks/data_table.ipynb>data table notebook</a>'\n",
              "            + ' to learn more about interactive tables.';\n",
              "          element.innerHTML = '';\n",
              "          dataTable['output_type'] = 'display_data';\n",
              "          await google.colab.output.renderOutput(dataTable, element);\n",
              "          const docLink = document.createElement('div');\n",
              "          docLink.innerHTML = docLinkHtml;\n",
              "          element.appendChild(docLink);\n",
              "        }\n",
              "      </script>\n",
              "    </div>\n",
              "  </div>\n",
              "  "
            ]
          },
          "metadata": {},
          "execution_count": 55
        }
      ]
    },
    {
      "cell_type": "code",
      "source": [
        "# Calcularemos la traspuesta para graficar\n",
        "centroids_transposed = centroides.T \n",
        "centroids_transposed"
      ],
      "metadata": {
        "colab": {
          "base_uri": "https://localhost:8080/",
          "height": 394
        },
        "id": "yle9PSwksBzO",
        "outputId": "3e81809d-8518-4da7-d55a-6f80ff5a9ee9"
      },
      "execution_count": null,
      "outputs": [
        {
          "output_type": "execute_result",
          "data": {
            "text/plain": [
              "Cluster                      0         1         2         3         4  \\\n",
              "MaritalStatus         0.000000  1.000000  0.000000  0.000000  1.000000   \n",
              "Gender                1.000000  0.485405  1.000000  0.000000  0.498515   \n",
              "YearlyIncome          0.356371  0.379459  0.388588  0.355873  0.298169   \n",
              "TotalChildren         0.378168  0.327243  0.341651  0.379458  0.176233   \n",
              "NumberChildrenAtHome  0.183480  0.258919  0.199136  0.189844  0.085859   \n",
              "SpanishEducation      0.561282  0.631351  0.672505  0.550923  0.521687   \n",
              "HouseOwnerFlag        0.774854  1.000000  0.815739  0.803231  0.000000   \n",
              "NumberCarsOwned       0.353314  0.272973  0.258997  0.362233  0.379531   \n",
              "CommuteDistance       0.435794  0.531486  0.390835  0.449221  0.361854   \n",
              "Age                   0.455593  0.364567  0.388842  0.460756  0.284502   \n",
              "BikeBuyer             0.000000  1.000000  1.000000  0.000000  0.000000   \n",
              "\n",
              "Cluster                      5         6         7  \n",
              "MaritalStatus         1.000000  1.000000  0.000000  \n",
              "Gender                0.472193  0.465635  0.000000  \n",
              "YearlyIncome          0.364972  0.332339  0.381224  \n",
              "TotalChildren         0.185624  0.339567  0.335579  \n",
              "NumberChildrenAtHome  0.143232  0.216409  0.193211  \n",
              "SpanishEducation      0.641133  0.505418  0.691041  \n",
              "HouseOwnerFlag        0.000000  1.000000  0.842777  \n",
              "NumberCarsOwned       0.303515  0.372136  0.248979  \n",
              "CommuteDistance       0.261149  0.559598  0.368811  \n",
              "Age                   0.282288  0.381980  0.390860  \n",
              "BikeBuyer             1.000000  0.000000  1.000000  "
            ],
            "text/html": [
              "\n",
              "  <div id=\"df-4d240335-3182-4fb4-a181-aa7a38148a5a\">\n",
              "    <div class=\"colab-df-container\">\n",
              "      <div>\n",
              "<style scoped>\n",
              "    .dataframe tbody tr th:only-of-type {\n",
              "        vertical-align: middle;\n",
              "    }\n",
              "\n",
              "    .dataframe tbody tr th {\n",
              "        vertical-align: top;\n",
              "    }\n",
              "\n",
              "    .dataframe thead th {\n",
              "        text-align: right;\n",
              "    }\n",
              "</style>\n",
              "<table border=\"1\" class=\"dataframe\">\n",
              "  <thead>\n",
              "    <tr style=\"text-align: right;\">\n",
              "      <th>Cluster</th>\n",
              "      <th>0</th>\n",
              "      <th>1</th>\n",
              "      <th>2</th>\n",
              "      <th>3</th>\n",
              "      <th>4</th>\n",
              "      <th>5</th>\n",
              "      <th>6</th>\n",
              "      <th>7</th>\n",
              "    </tr>\n",
              "  </thead>\n",
              "  <tbody>\n",
              "    <tr>\n",
              "      <th>MaritalStatus</th>\n",
              "      <td>0.000000</td>\n",
              "      <td>1.000000</td>\n",
              "      <td>0.000000</td>\n",
              "      <td>0.000000</td>\n",
              "      <td>1.000000</td>\n",
              "      <td>1.000000</td>\n",
              "      <td>1.000000</td>\n",
              "      <td>0.000000</td>\n",
              "    </tr>\n",
              "    <tr>\n",
              "      <th>Gender</th>\n",
              "      <td>1.000000</td>\n",
              "      <td>0.485405</td>\n",
              "      <td>1.000000</td>\n",
              "      <td>0.000000</td>\n",
              "      <td>0.498515</td>\n",
              "      <td>0.472193</td>\n",
              "      <td>0.465635</td>\n",
              "      <td>0.000000</td>\n",
              "    </tr>\n",
              "    <tr>\n",
              "      <th>YearlyIncome</th>\n",
              "      <td>0.356371</td>\n",
              "      <td>0.379459</td>\n",
              "      <td>0.388588</td>\n",
              "      <td>0.355873</td>\n",
              "      <td>0.298169</td>\n",
              "      <td>0.364972</td>\n",
              "      <td>0.332339</td>\n",
              "      <td>0.381224</td>\n",
              "    </tr>\n",
              "    <tr>\n",
              "      <th>TotalChildren</th>\n",
              "      <td>0.378168</td>\n",
              "      <td>0.327243</td>\n",
              "      <td>0.341651</td>\n",
              "      <td>0.379458</td>\n",
              "      <td>0.176233</td>\n",
              "      <td>0.185624</td>\n",
              "      <td>0.339567</td>\n",
              "      <td>0.335579</td>\n",
              "    </tr>\n",
              "    <tr>\n",
              "      <th>NumberChildrenAtHome</th>\n",
              "      <td>0.183480</td>\n",
              "      <td>0.258919</td>\n",
              "      <td>0.199136</td>\n",
              "      <td>0.189844</td>\n",
              "      <td>0.085859</td>\n",
              "      <td>0.143232</td>\n",
              "      <td>0.216409</td>\n",
              "      <td>0.193211</td>\n",
              "    </tr>\n",
              "    <tr>\n",
              "      <th>SpanishEducation</th>\n",
              "      <td>0.561282</td>\n",
              "      <td>0.631351</td>\n",
              "      <td>0.672505</td>\n",
              "      <td>0.550923</td>\n",
              "      <td>0.521687</td>\n",
              "      <td>0.641133</td>\n",
              "      <td>0.505418</td>\n",
              "      <td>0.691041</td>\n",
              "    </tr>\n",
              "    <tr>\n",
              "      <th>HouseOwnerFlag</th>\n",
              "      <td>0.774854</td>\n",
              "      <td>1.000000</td>\n",
              "      <td>0.815739</td>\n",
              "      <td>0.803231</td>\n",
              "      <td>0.000000</td>\n",
              "      <td>0.000000</td>\n",
              "      <td>1.000000</td>\n",
              "      <td>0.842777</td>\n",
              "    </tr>\n",
              "    <tr>\n",
              "      <th>NumberCarsOwned</th>\n",
              "      <td>0.353314</td>\n",
              "      <td>0.272973</td>\n",
              "      <td>0.258997</td>\n",
              "      <td>0.362233</td>\n",
              "      <td>0.379531</td>\n",
              "      <td>0.303515</td>\n",
              "      <td>0.372136</td>\n",
              "      <td>0.248979</td>\n",
              "    </tr>\n",
              "    <tr>\n",
              "      <th>CommuteDistance</th>\n",
              "      <td>0.435794</td>\n",
              "      <td>0.531486</td>\n",
              "      <td>0.390835</td>\n",
              "      <td>0.449221</td>\n",
              "      <td>0.361854</td>\n",
              "      <td>0.261149</td>\n",
              "      <td>0.559598</td>\n",
              "      <td>0.368811</td>\n",
              "    </tr>\n",
              "    <tr>\n",
              "      <th>Age</th>\n",
              "      <td>0.455593</td>\n",
              "      <td>0.364567</td>\n",
              "      <td>0.388842</td>\n",
              "      <td>0.460756</td>\n",
              "      <td>0.284502</td>\n",
              "      <td>0.282288</td>\n",
              "      <td>0.381980</td>\n",
              "      <td>0.390860</td>\n",
              "    </tr>\n",
              "    <tr>\n",
              "      <th>BikeBuyer</th>\n",
              "      <td>0.000000</td>\n",
              "      <td>1.000000</td>\n",
              "      <td>1.000000</td>\n",
              "      <td>0.000000</td>\n",
              "      <td>0.000000</td>\n",
              "      <td>1.000000</td>\n",
              "      <td>0.000000</td>\n",
              "      <td>1.000000</td>\n",
              "    </tr>\n",
              "  </tbody>\n",
              "</table>\n",
              "</div>\n",
              "      <button class=\"colab-df-convert\" onclick=\"convertToInteractive('df-4d240335-3182-4fb4-a181-aa7a38148a5a')\"\n",
              "              title=\"Convert this dataframe to an interactive table.\"\n",
              "              style=\"display:none;\">\n",
              "        \n",
              "  <svg xmlns=\"http://www.w3.org/2000/svg\" height=\"24px\"viewBox=\"0 0 24 24\"\n",
              "       width=\"24px\">\n",
              "    <path d=\"M0 0h24v24H0V0z\" fill=\"none\"/>\n",
              "    <path d=\"M18.56 5.44l.94 2.06.94-2.06 2.06-.94-2.06-.94-.94-2.06-.94 2.06-2.06.94zm-11 1L8.5 8.5l.94-2.06 2.06-.94-2.06-.94L8.5 2.5l-.94 2.06-2.06.94zm10 10l.94 2.06.94-2.06 2.06-.94-2.06-.94-.94-2.06-.94 2.06-2.06.94z\"/><path d=\"M17.41 7.96l-1.37-1.37c-.4-.4-.92-.59-1.43-.59-.52 0-1.04.2-1.43.59L10.3 9.45l-7.72 7.72c-.78.78-.78 2.05 0 2.83L4 21.41c.39.39.9.59 1.41.59.51 0 1.02-.2 1.41-.59l7.78-7.78 2.81-2.81c.8-.78.8-2.07 0-2.86zM5.41 20L4 18.59l7.72-7.72 1.47 1.35L5.41 20z\"/>\n",
              "  </svg>\n",
              "      </button>\n",
              "      \n",
              "  <style>\n",
              "    .colab-df-container {\n",
              "      display:flex;\n",
              "      flex-wrap:wrap;\n",
              "      gap: 12px;\n",
              "    }\n",
              "\n",
              "    .colab-df-convert {\n",
              "      background-color: #E8F0FE;\n",
              "      border: none;\n",
              "      border-radius: 50%;\n",
              "      cursor: pointer;\n",
              "      display: none;\n",
              "      fill: #1967D2;\n",
              "      height: 32px;\n",
              "      padding: 0 0 0 0;\n",
              "      width: 32px;\n",
              "    }\n",
              "\n",
              "    .colab-df-convert:hover {\n",
              "      background-color: #E2EBFA;\n",
              "      box-shadow: 0px 1px 2px rgba(60, 64, 67, 0.3), 0px 1px 3px 1px rgba(60, 64, 67, 0.15);\n",
              "      fill: #174EA6;\n",
              "    }\n",
              "\n",
              "    [theme=dark] .colab-df-convert {\n",
              "      background-color: #3B4455;\n",
              "      fill: #D2E3FC;\n",
              "    }\n",
              "\n",
              "    [theme=dark] .colab-df-convert:hover {\n",
              "      background-color: #434B5C;\n",
              "      box-shadow: 0px 1px 3px 1px rgba(0, 0, 0, 0.15);\n",
              "      filter: drop-shadow(0px 1px 2px rgba(0, 0, 0, 0.3));\n",
              "      fill: #FFFFFF;\n",
              "    }\n",
              "  </style>\n",
              "\n",
              "      <script>\n",
              "        const buttonEl =\n",
              "          document.querySelector('#df-4d240335-3182-4fb4-a181-aa7a38148a5a button.colab-df-convert');\n",
              "        buttonEl.style.display =\n",
              "          google.colab.kernel.accessAllowed ? 'block' : 'none';\n",
              "\n",
              "        async function convertToInteractive(key) {\n",
              "          const element = document.querySelector('#df-4d240335-3182-4fb4-a181-aa7a38148a5a');\n",
              "          const dataTable =\n",
              "            await google.colab.kernel.invokeFunction('convertToInteractive',\n",
              "                                                     [key], {});\n",
              "          if (!dataTable) return;\n",
              "\n",
              "          const docLinkHtml = 'Like what you see? Visit the ' +\n",
              "            '<a target=\"_blank\" href=https://colab.research.google.com/notebooks/data_table.ipynb>data table notebook</a>'\n",
              "            + ' to learn more about interactive tables.';\n",
              "          element.innerHTML = '';\n",
              "          dataTable['output_type'] = 'display_data';\n",
              "          await google.colab.output.renderOutput(dataTable, element);\n",
              "          const docLink = document.createElement('div');\n",
              "          docLink.innerHTML = docLinkHtml;\n",
              "          element.appendChild(docLink);\n",
              "        }\n",
              "      </script>\n",
              "    </div>\n",
              "  </div>\n",
              "  "
            ]
          },
          "metadata": {},
          "execution_count": 56
        }
      ]
    },
    {
      "cell_type": "markdown",
      "source": [
        "### Visualización de centroides"
      ],
      "metadata": {
        "id": "tjWbvbKGuGOb"
      }
    },
    {
      "cell_type": "code",
      "source": [
        "plt.figure(figsize=(20, 8))\n",
        "plt.plot(centroids_transposed, label='Line '+ centroids_transposed.index)\n",
        "plt.xticks(rotation=45, ha='right')\n",
        "plt.title(\"Centroides\")\n",
        "plt.legend(centroids_transposed.columns)\n",
        "plt.show()"
      ],
      "metadata": {
        "colab": {
          "base_uri": "https://localhost:8080/",
          "height": 523
        },
        "id": "Jbf7uuFesNbA",
        "outputId": "cf642684-1bdf-4a6c-9802-29e701afe804"
      },
      "execution_count": null,
      "outputs": [
        {
          "output_type": "display_data",
          "data": {
            "text/plain": [
              "<Figure size 1440x576 with 1 Axes>"
            ],
            "image/png": "[encoded data removed]"
          },
          "metadata": {}
        }
      ]
    },
    {
      "cell_type": "markdown",
      "source": [
        "## Análisis de k con codo y con silueta"
      ],
      "metadata": {
        "id": "kb1lwnsFuMnX"
      }
    },
    {
      "cell_type": "code",
      "source": [
        "kmeans_k = {\"init\": \"k-means++\", \"n_init\": 12, \"max_iter\": 500}\n",
        "# Lista que obtiene los SSE para cada valor de k\n",
        "sse = []\n",
        "for k in range(2, 15):\n",
        "  clusterer = KMeans(n_clusters=k, **kmeans_k)\n",
        "  cluster_labels = clusterer.fit_predict(cluster_df2)\n",
        "  sse.append(clusterer.inertia_)"
      ],
      "metadata": {
        "id": "kg10aR--m0JC"
      },
      "execution_count": null,
      "outputs": []
    },
    {
      "cell_type": "code",
      "source": [
        "plt.style.use(\"fivethirtyeight\")\n",
        "plt.plot(range(2, 15), sse)\n",
        "plt.xticks(range(2, 15))\n",
        "plt.xlabel(\"Number of Clusters\")\n",
        "plt.ylabel(\"SSE\")\n",
        "plt.show()"
      ],
      "metadata": {
        "colab": {
          "base_uri": "https://localhost:8080/",
          "height": 388
        },
        "id": "d1I82r96m_NK",
        "outputId": "2e7bf113-943e-49b1-defe-b3563d4ac37f"
      },
      "execution_count": null,
      "outputs": [
        {
          "output_type": "display_data",
          "data": {
            "text/plain": [
              "<Figure size 576x396 with 1 Axes>"
            ],
            "image/png": "[encoded data removed]"
          },
          "metadata": {}
        }
      ]
    },
    {
      "cell_type": "code",
      "source": [
        "df2 = cluster_df2.copy() # copia del dataframe para eliminar la columna Cluster\n",
        "df2.drop(['Cluster'], axis = 'columns', inplace = True) # Se elimina la columna Cluster\n",
        "silhouette_avg = silhouette_score(df2, cluster_labels)\n",
        "print(f'Silhouette Score: {silhouette_avg}')"
      ],
      "metadata": {
        "colab": {
          "base_uri": "https://localhost:8080/"
        },
        "id": "_2ubK6CepraR",
        "outputId": "97db5d64-7a9d-429f-fdd5-957e100a3eb9"
      },
      "execution_count": null,
      "outputs": [
        {
          "output_type": "stream",
          "name": "stdout",
          "text": [
            "Silhouette Score: 0.2350531999046642\n"
          ]
        }
      ]
    },
    {
      "cell_type": "markdown",
      "metadata": {
        "application/vnd.databricks.v1+cell": {
          "title": "",
          "showTitle": false,
          "inputWidgets": {},
          "nuid": "5b22faa6-5f37-425a-b870-679d0bbb052c"
        },
        "id": "4U1H9KnV2m8G"
      },
      "source": [
        "Links de ayuda interesantes:\n",
        "<ul>\n",
        "    <li>Clustering with Scikit-learn: https://scikit-learn.org/stable/modules/clustering.html</li>\n",
        "    <li>7 ways to label a cluster plot in Python: https://nikkimarinsek.com/blog/7-ways-to-label-a-cluster-plot-python</li> \n",
        "<ul>"
      ]
    }
  ]
}